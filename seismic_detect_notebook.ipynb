{
  "nbformat": 4,
  "nbformat_minor": 0,
  "metadata": {
    "colab": {
      "provenance": []
    },
    "kernelspec": {
      "name": "python3",
      "display_name": "Python 3"
    },
    "language_info": {
      "name": "python"
    }
  },
  "cells": [
    {
      "cell_type": "code",
      "source": [
        "#Install prerequisite packages\n",
        "%pip install obspy"
      ],
      "metadata": {
        "id": "zIee_wEmZkMV"
      },
      "execution_count": null,
      "outputs": []
    },
    {
      "cell_type": "code",
      "execution_count": 1,
      "metadata": {
        "id": "h-qZZR1UWXpR"
      },
      "outputs": [],
      "source": [
        "#Import modules\n",
        "import numpy as np\n",
        "import pandas as pd\n",
        "import obspy\n",
        "from obspy import read\n",
        "from datetime import datetime, timedelta\n",
        "import matplotlib.pyplot as plt\n",
        "import os\n"
      ]
    },
    {
      "cell_type": "code",
      "source": [
        "#Dataset\n",
        "'''\n",
        "class to assimilate data ,\n",
        "Input: paths to dataset\n",
        "Output: Multi-dim matrix,  np.ndarray or torch.tensor\n",
        "'''"
      ],
      "metadata": {
        "id": "s8HsbRa8YU3K"
      },
      "execution_count": null,
      "outputs": []
    },
    {
      "cell_type": "code",
      "source": [
        "#PreProcessing\n",
        "'''\n",
        "Input:Signal\n",
        "Output: Transformed / Augmented data\n",
        "'''"
      ],
      "metadata": {
        "id": "ZqlNpYb9ajru"
      },
      "execution_count": null,
      "outputs": []
    },
    {
      "cell_type": "code",
      "source": [
        "# Model Definition\n",
        "'''\n",
        "Define model architectures\n",
        "Input: tensor signal\n",
        "Output: binary signal\n",
        "'''"
      ],
      "metadata": {
        "id": "j4CSv1ysaQ_n"
      },
      "execution_count": null,
      "outputs": []
    },
    {
      "cell_type": "code",
      "source": [
        "# Model Training\n",
        "'''\n",
        "Define optimizers, hyperparams,\n",
        "Start/end Training, store model checkpoint\n",
        "\n",
        "'''"
      ],
      "metadata": {
        "id": "FvBwQN-ha6NZ"
      },
      "execution_count": null,
      "outputs": []
    },
    {
      "cell_type": "code",
      "source": [
        "#Evaluation\n",
        "'''\n",
        "Input: Model, test data\n",
        "Output: pd.Dataframe or similar table with evaluation results\n",
        "'''"
      ],
      "metadata": {
        "id": "LI8BnYDwbLpm"
      },
      "execution_count": null,
      "outputs": []
    },
    {
      "cell_type": "code",
      "source": [
        "#Demo app\n",
        "'''\n",
        "Input: Model, sample input signal\n",
        "'''"
      ],
      "metadata": {
        "id": "dq4G5UYGblYl"
      },
      "execution_count": null,
      "outputs": []
    }
  ]
}