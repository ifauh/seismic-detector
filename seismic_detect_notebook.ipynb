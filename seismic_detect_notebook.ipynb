{
  "nbformat": 4,
  "nbformat_minor": 0,
  "metadata": {
    "colab": {
      "provenance": []
    },
    "kernelspec": {
      "name": "python3",
      "display_name": "Python 3"
    },
    "language_info": {
      "name": "python"
    }
  },
  "cells": [
    {
      "cell_type": "code",
      "source": [
        "!wget http://dtn-max.ifa.hawaii.edu/SpaceApps/2024/spaceappschallenge_seismicdetection_data.zip"
      ],
      "metadata": {
        "colab": {
          "base_uri": "https://localhost:8080/"
        },
        "id": "3nH4oYs_lMAK",
        "outputId": "51bd1b16-6a5c-4241-dbbb-a63b2528fa4f"
      },
      "execution_count": 10,
      "outputs": [
        {
          "output_type": "stream",
          "name": "stdout",
          "text": [
            "--2024-10-05 21:27:47--  http://dtn-max.ifa.hawaii.edu/SpaceApps/2024/spaceappschallenge_seismicdetection_data.zip\n",
            "Resolving dtn-max.ifa.hawaii.edu (dtn-max.ifa.hawaii.edu)... 206.196.177.123\n",
            "Connecting to dtn-max.ifa.hawaii.edu (dtn-max.ifa.hawaii.edu)|206.196.177.123|:80... connected.\n",
            "HTTP request sent, awaiting response... 200 OK\n",
            "Length: 756718846 (722M) [application/zip]\n",
            "Saving to: ‘spaceappschallenge_seismicdetection_data.zip’\n",
            "\n",
            "spaceappschallenge_ 100%[===================>] 721.66M  81.1MB/s    in 12s     \n",
            "\n",
            "2024-10-05 21:27:59 (62.2 MB/s) - ‘spaceappschallenge_seismicdetection_data.zip’ saved [756718846/756718846]\n",
            "\n"
          ]
        }
      ]
    },
    {
      "cell_type": "code",
      "source": [
        "!unzip spaceappschallenge_seismicdetection_data.zip"
      ],
      "metadata": {
        "colab": {
          "base_uri": "https://localhost:8080/"
        },
        "id": "oB3RlppulbKj",
        "outputId": "dac8ae6c-0035-4d6e-eebf-bf1aaaf44734"
      },
      "execution_count": 11,
      "outputs": [
        {
          "output_type": "stream",
          "name": "stdout",
          "text": [
            "Archive:  spaceappschallenge_seismicdetection_data.zip\n",
            "   creating: data/\n",
            "   creating: data/lunar/\n",
            "   creating: data/lunar/catalog/\n",
            "  inflating: data/lunar/catalog/apollo12_catalog_GradeA_final.csv  \n",
            "   creating: data/lunar/train/\n",
            "  inflating: data/lunar/train/xa.s12.00.mhz.1971-04-17HR00_evid00030.mseed  \n",
            "  inflating: data/lunar/train/xa.s12.00.mhz.1973-08-21HR00_evid00127.mseed  \n",
            "  inflating: data/lunar/train/xa.s12.00.mhz.1973-07-04HR00_evid00114.mseed  \n",
            "  inflating: data/lunar/train/xa.s12.00.mhz.1975-05-04HR00_evid00192.mseed  \n",
            "  inflating: data/lunar/train/xa.s12.00.mhz.1973-01-18HR00_evid00088.mseed  \n",
            "  inflating: data/lunar/train/xa.s12.00.mhz.1974-06-25HR00_evid00149.mseed  \n",
            "  inflating: data/lunar/train/xa.s12.00.mhz.1971-05-13HR00_evid00033.mseed  \n",
            "  inflating: data/lunar/train/xa.s12.00.mhz.1974-04-26HR00_evid00144.mseed  \n",
            "  inflating: data/lunar/train/xa.s12.00.mhz.1971-01-28HR00_evid00023.mseed  \n",
            "  inflating: data/lunar/train/xa.s12.00.mhz.1973-03-01HR00_evid00093.mseed  \n",
            "  inflating: data/lunar/train/xa.s12.00.mhz.1970-07-20HR00_evid00011.mseed  \n",
            "  inflating: data/lunar/train/xa.s12.00.mhz.1974-07-17HR00_evid00153.mseed  \n",
            "  inflating: data/lunar/train/xa.s12.00.mhz.1972-07-31HR00_evid00071.mseed  \n",
            "  inflating: data/lunar/train/xa.s12.00.mhz.1973-07-28HR00_evid00120.mseed  \n",
            "  inflating: data/lunar/train/xa.s12.00.mhz.1972-07-17HR00_evid00067.mseed  \n",
            "  inflating: data/lunar/train/xa.s12.00.mhz.1974-04-08HR00_evid00141.mseed  \n",
            "  inflating: data/lunar/train/xa.s12.00.mhz.1973-06-27HR00_evid00112.mseed  \n",
            "  inflating: data/lunar/train/xa.s12.00.mhz.1971-05-23HR00_evid00034.mseed  \n",
            "  inflating: data/lunar/train/xa.s12.00.mhz.1970-07-20HR00_evid00010.mseed  \n",
            "  inflating: data/lunar/train/xa.s12.00.mhz.1970-09-26HR00_evid00013.mseed  \n",
            "  inflating: data/lunar/train/xa.s12.00.mhz.1971-06-12HR00_evid00035.mseed  \n",
            "  inflating: data/lunar/train/xa.s12.00.mhz.1973-06-05HR00_evid00107.mseed  \n",
            "  inflating: data/lunar/train/xa.s12.00.mhz.1970-03-26HR00_evid00004.mseed  \n",
            "  inflating: data/lunar/train/xa.s12.00.mhz.1971-10-18HR00_evid00043.mseed  \n",
            "  inflating: data/lunar/train/xa.s12.00.mhz.1971-01-29HR00_evid00024.mseed  \n",
            "  inflating: data/lunar/train/xa.s12.00.mhz.1972-07-17HR00_evid00068.mseed  \n",
            "  inflating: data/lunar/train/xa.s12.00.mhz.1974-01-10HR00_evid00136.mseed  \n",
            "  inflating: data/lunar/train/xa.s12.00.mhz.1972-06-16HR00_evid00060.mseed  \n",
            "  inflating: data/lunar/train/xa.s12.00.mhz.1973-06-05HR00_evid00108.mseed  \n",
            "  inflating: data/lunar/train/xa.s12.00.mhz.1975-06-24HR00_evid00196.mseed  \n",
            "  inflating: data/lunar/train/xa.s12.00.mhz.1973-03-13HR00_evid00094.mseed  \n",
            "  inflating: data/lunar/train/xa.s12.00.mhz.1971-09-25HR00_evid00042.mseed  \n",
            "  inflating: data/lunar/train/xa.s12.00.mhz.1971-11-14HR00_evid00046.mseed  \n",
            "  inflating: data/lunar/train/xa.s12.00.mhz.1972-05-11HR00_evid00055.mseed  \n",
            "  inflating: data/lunar/train/xa.s12.00.mhz.1974-02-07HR00_evid00137.mseed  \n",
            "  inflating: data/lunar/train/xa.s12.00.mhz.1970-12-31HR00_evid00021.mseed  \n",
            "  inflating: data/lunar/train/xa.s12.00.mhz.1970-06-15HR00_evid00008.mseed  \n",
            "  inflating: data/lunar/train/xa.s12.00.mhz.1972-07-28HR00_evid00070.mseed  \n",
            "  inflating: data/lunar/train/xa.s12.00.mhz.1972-03-12HR00_evid00052.mseed  \n",
            "  inflating: data/lunar/train/xa.s12.00.mhz.1973-06-18HR00_evid00109.mseed  \n",
            "  inflating: data/lunar/train/xa.s12.00.mhz.1971-04-13HR02_evid00029.mseed  \n",
            "  inflating: data/lunar/train/xa.s12.00.mhz.1971-10-31HR00_evid00045.mseed  \n",
            "  inflating: data/lunar/train/xa.s12.00.mhz.1974-03-25HR00_evid00140.mseed  \n",
            "  inflating: data/lunar/train/xa.s12.00.mhz.1972-12-02HR00_evid00083.mseed  \n",
            "  inflating: data/lunar/train/xa.s12.00.mhz.1973-07-29HR00_evid00121.mseed  \n",
            "  inflating: data/lunar/train/xa.s12.00.mhz.1970-04-25HR00_evid00006.mseed  \n",
            "  inflating: data/lunar/train/xa.s12.00.mhz.1974-07-06HR00_evid00150.mseed  \n",
            "  inflating: data/lunar/train/xa.s12.00.mhz.1974-07-11HR00_evid00152.mseed  \n",
            "  inflating: data/lunar/train/xa.s12.00.mhz.1970-03-25HR00_evid00003.mseed  \n",
            "  inflating: data/lunar/train/xa.s12.00.mhz.1974-04-27HR00_evid00145.mseed  \n",
            "  inflating: data/lunar/train/xa.s12.00.mhz.1971-05-12HR00_evid00032.mseed  \n",
            "  inflating: data/lunar/train/xa.s12.00.mhz.1970-11-12HR00_evid00015.mseed  \n",
            "  inflating: data/lunar/train/xa.s12.00.mhz.1971-10-20HR00_evid00044.mseed  \n",
            "  inflating: data/lunar/train/xa.s12.00.mhz.1973-07-20HR00_evid00117.mseed  \n",
            "  inflating: data/lunar/train/xa.s12.00.mhz.1975-04-12HR00_evid00191.mseed  \n",
            "  inflating: data/lunar/train/xa.s12.00.mhz.1971-01-15HR00_evid00022.mseed  \n",
            "  inflating: data/lunar/train/xa.s12.00.mhz.1974-07-06HR00_evid00151.mseed  \n",
            "  inflating: data/lunar/train/xa.s12.00.mhz.1974-02-12HR00_evid00138.mseed  \n",
            "  inflating: data/lunar/train/xa.s12.00.mhz.1974-04-19HR00_evid00142.mseed  \n",
            "  inflating: data/lunar/train/xa.s12.00.mhz.1972-01-04HR00_evid00049.mseed  \n",
            "  inflating: data/lunar/train/xa.s12.00.mhz.1970-06-26HR00_evid00009.mseed  \n",
            "  inflating: data/lunar/train/xa.s12.00.mhz.1970-12-11HR00_evid00017.mseed  \n",
            "  inflating: data/lunar/train/xa.s12.00.mhz.1971-03-25HR00_evid00028.mseed  \n",
            "  inflating: data/lunar/train/xa.s12.00.mhz.1972-12-03HR00_evid00084.mseed  \n",
            "  inflating: data/lunar/train/xa.s12.00.mhz.1971-02-09HR00_evid00026.mseed  \n",
            "  inflating: data/lunar/train/xa.s12.00.mhz.1973-07-03HR00_evid00113.mseed  \n",
            "  inflating: data/lunar/train/xa.s12.00.mhz.1974-10-14HR00_evid00156.mseed  \n",
            "  inflating: data/lunar/train/xa.s12.00.mhz.1970-10-24HR00_evid00014.mseed  \n",
            "  inflating: data/lunar/train/xa.s12.00.mhz.1970-12-27HR00_evid00019.mseed  \n",
            "  inflating: data/lunar/train/xa.s12.00.mhz.1973-05-14HR00_evid00104.mseed  \n",
            "  inflating: data/lunar/train/xa.s12.00.mhz.1973-03-24HR00_evid00097.mseed  \n",
            "  inflating: data/lunar/train/xa.s12.00.mhz.1973-01-31HR00_evid00091.mseed  \n",
            "  inflating: data/lunar/train/xa.s12.00.mhz.1971-05-12HR00_evid00031.mseed  \n",
            "  inflating: data/lunar/train/xa.s12.00.mhz.1970-01-19HR00_evid00002.mseed  \n",
            "  inflating: data/lunar/train/xa.s12.00.mhz.1970-04-26HR00_evid00007.mseed  \n",
            "  inflating: data/lunar/train/xa.s12.00.mhz.1975-06-26HR00_evid00198.mseed  \n",
            "   creating: data/lunar/test/\n",
            "  inflating: data/lunar/test/xa.s15.00.mhz.1974-12-15HR00_evid00169.mseed  \n",
            "  inflating: data/lunar/test/xa.s12.00.mhz.1971-04-08HR01_evid00083.mseed  \n",
            "  inflating: data/lunar/test/xa.s15.00.mhz.1973-04-04HR00_evid00098.mseed  \n",
            "  inflating: data/lunar/test/xa.s16.00.mhz.1974-12-15HR00_evid00172.mseed  \n",
            "  inflating: data/lunar/test/xa.s16.00.mhz.1973-12-18HR00_evid00487.mseed  \n",
            "  inflating: data/lunar/test/xa.s12.00.mhz.1970-06-19HR00_evid00031.mseed  \n",
            "  inflating: data/lunar/test/xa.s16.00.mhz.1974-12-25HR00_evid00174.mseed  \n",
            "  inflating: data/lunar/test/xa.s12.00.mhz.1970-03-14HR00_evid00018.mseed  \n",
            "  inflating: data/lunar/test/xa.s15.00.mhz.1975-06-22HR00_evid00194.mseed  \n",
            "  inflating: data/lunar/test/xa.s12.00.mhz.1977-09-13HR00_evid01012.mseed  \n",
            "  inflating: data/lunar/test/xa.s12.00.mhz.1975-06-17HR00_evid00662.mseed  \n",
            "  inflating: data/lunar/test/xa.s15.00.mhz.1975-05-20HR00_evid00653.mseed  \n",
            "  inflating: data/lunar/test/xa.s15.00.mhz.1975-04-12HR00_evid00190.mseed  \n",
            "  inflating: data/lunar/test/xa.s12.00.mhz.1970-07-20HR00_evid00037.mseed  \n",
            "  inflating: data/lunar/test/xa.s16.00.mhz.1975-03-26HR00_evid00186.mseed  \n",
            "  inflating: data/lunar/test/xa.s12.00.mhz.1971-05-22HR00_evid00092.mseed  \n",
            "  inflating: data/lunar/test/xa.s12.00.mhz.1970-02-07HR00_evid00014.mseed  \n",
            "  inflating: data/lunar/test/xa.s15.00.mhz.1974-10-19HR00_evid00157.mseed  \n",
            "  inflating: data/lunar/test/xa.s12.00.mhz.1970-05-25HR00_evid00029.mseed  \n",
            "  inflating: data/lunar/test/xa.s16.00.mhz.1974-12-12HR02_evid00168.mseed  \n",
            "  inflating: data/lunar/test/xa.s12.00.mhz.1972-12-06HR00_evid00342.mseed  \n",
            "  inflating: data/lunar/test/xa.s12.00.mhz.1977-07-19HR00_evid00991.mseed  \n",
            "  inflating: data/lunar/test/xa.s12.00.mhz.1970-11-03HR00_evid00050.mseed  \n",
            "  inflating: data/lunar/test/xa.s12.00.mhz.1971-10-06HR00_evid00124.mseed  \n",
            "  inflating: data/lunar/test/xa.s15.00.mhz.1974-11-17HR00_evid00162.mseed  \n",
            "  inflating: data/lunar/test/xa.s15.00.mhz.1973-10-27HR00_evid00134.mseed  \n",
            "  inflating: data/lunar/test/xa.s12.00.mhz.1973-03-12HR00_evid00384.mseed  \n",
            "  inflating: data/lunar/test/xa.s12.00.mhz.1975-04-21HR00_evid00638.mseed  \n",
            "  inflating: data/lunar/test/xa.s12.00.mhz.1970-09-09HR00_evid00043.mseed  \n",
            "  inflating: data/lunar/test/xa.s16.00.mhz.1973-08-25HR00_evid00443.mseed  \n",
            "  inflating: data/lunar/test/xa.s12.00.mhz.1974-03-14HR00_evid00506.mseed  \n",
            "  inflating: data/lunar/test/xa.s16.00.mhz.1972-11-08HR00_evid00080.mseed  \n",
            "  inflating: data/lunar/test/xa.s12.00.mhz.1972-05-19HR00_evid00228.mseed  \n",
            "  inflating: data/lunar/test/xa.s12.00.mhz.1970-07-18HR00_evid00036.mseed  \n",
            "  inflating: data/lunar/test/xa.s12.00.mhz.1970-11-03HR00_evid00051.mseed  \n",
            "  inflating: data/lunar/test/xa.s12.00.mhz.1974-05-09HR00_evid00522.mseed  \n",
            "  inflating: data/lunar/test/xa.s12.00.mhz.1971-10-06HR00_evid00125.mseed  \n",
            "  inflating: data/lunar/test/xa.s12.00.mhz.1973-04-23HR00_evid00399.mseed  \n",
            "  inflating: data/lunar/test/xa.s12.00.mhz.1975-05-16HR00_evid00651.mseed  \n",
            "  inflating: data/lunar/test/xa.s12.00.mhz.1972-12-02HR00_evid00341.mseed  \n",
            "  inflating: data/lunar/test/xa.s12.00.mhz.1970-10-26HR00_evid00049.mseed  \n",
            "  inflating: data/lunar/test/xa.s12.00.mhz.1972-11-14HR00_evid00331.mseed  \n",
            "  inflating: data/lunar/test/xa.s12.00.mhz.1970-07-27HR00_evid00039.mseed  \n",
            "  inflating: data/lunar/test/xa.s12.00.mhz.1975-05-20HR00_evid00652.mseed  \n",
            "  inflating: data/lunar/test/xa.s12.00.mhz.1972-05-15HR00_evid00223.mseed  \n",
            "  inflating: data/lunar/test/xa.s12.00.mhz.1974-07-25HR05_evid00553.mseed  \n",
            "  inflating: data/lunar/test/xa.s16.00.mhz.1977-06-02HR00_evid00255.mseed  \n",
            "  inflating: data/lunar/test/xa.s16.00.mhz.1974-11-14HR00_evid00587.mseed  \n",
            "  inflating: data/lunar/test/xa.s12.00.mhz.1971-01-05HR00_evid00059.mseed  \n",
            "  inflating: data/lunar/test/xa.s16.00.mhz.1977-04-17HR00_evid00249.mseed  \n",
            "  inflating: data/lunar/test/xa.s12.00.mhz.1971-06-11HR00_evid00096.mseed  \n",
            "  inflating: data/lunar/test/xa.s12.00.mhz.1974-10-02HR00_evid00572.mseed  \n",
            "  inflating: data/lunar/test/xa.s15.00.mhz.1974-12-15HR00_evid00170.mseed  \n",
            "  inflating: data/lunar/test/xa.s16.00.mhz.1974-05-19HR00_evid00146.mseed  \n",
            "  inflating: data/lunar/test/xa.s12.00.mhz.1971-01-03HR00_evid00057.mseed  \n",
            "  inflating: data/lunar/test/xa.s16.00.mhz.1974-11-11HR00_evid00160.mseed  \n",
            "  inflating: data/lunar/test/xa.s12.00.mhz.1971-01-17HR00_evid00060.mseed  \n",
            "  inflating: data/lunar/test/xa.s12.00.mhz.1970-02-18HR00_evid00016.mseed  \n",
            "  inflating: data/lunar/test/xa.s12.00.mhz.1972-02-28HR00_evid00192.mseed  \n",
            "  inflating: data/lunar/test/xa.s15.00.mhz.1974-11-21HR00_evid00166.mseed  \n",
            "  inflating: data/lunar/test/xa.s16.00.mhz.1973-07-31HR00_evid00123.mseed  \n",
            "  inflating: data/lunar/test/xa.s12.00.mhz.1970-05-24HR00_evid00028.mseed  \n",
            "  inflating: data/lunar/test/xa.s12.00.mhz.1974-06-30HR00_evid00543.mseed  \n",
            "  inflating: data/lunar/test/xa.s12.00.mhz.1971-03-15HR00_evid00073.mseed  \n",
            "  inflating: data/lunar/test/xa.s12.00.mhz.1970-03-30HR00_evid00020.mseed  \n",
            "  inflating: data/lunar/test/xa.s12.00.mhz.1970-04-03HR00_evid00021.mseed  \n",
            "  inflating: data/lunar/test/xa.s12.00.mhz.1969-12-16HR00_evid00006.mseed  \n",
            "  inflating: data/lunar/test/xa.s12.00.mhz.1970-07-17HR00_evid00035.mseed  \n",
            "  inflating: data/lunar/test/xa.s12.00.mhz.1972-01-26HR00_evid00186.mseed  \n",
            "  inflating: data/lunar/test/xa.s12.00.mhz.1972-12-15HR00_evid00349.mseed  \n",
            "  inflating: data/lunar/test/xa.s12.00.mhz.1977-04-24HR00_evid00923.mseed  \n",
            "  inflating: data/lunar/test/xa.s12.00.mhz.1972-11-19HR00_evid00335.mseed  \n",
            "  inflating: data/lunar/test/xa.s12.00.mhz.1977-04-26HR00_evid00924.mseed  \n",
            "  inflating: data/lunar/test/xa.s12.00.mhz.1975-06-15HR00_evid00660.mseed  \n",
            "  inflating: data/lunar/test/xa.s12.00.mhz.1977-04-11HR00_evid00915.mseed  \n",
            "  inflating: data/lunar/test/xa.s12.00.mhz.1970-05-20HR00_evid00026.mseed  \n",
            "  inflating: data/lunar/test/xa.s16.00.mhz.1975-02-19HR00_evid00180.mseed  \n",
            "  inflating: data/lunar/test/xa.s15.00.mhz.1974-02-06HR00_evid00497.mseed  \n",
            "  inflating: data/lunar/test/xa.s12.00.mhz.1973-10-03HR03_evid00461.mseed  \n",
            "  inflating: data/lunar/test/xa.s12.00.mhz.1974-03-30HR00_evid00512.mseed  \n",
            "  inflating: data/lunar/test/xa.s12.00.mhz.1970-05-23HR00_evid00027.mseed  \n",
            "  inflating: data/lunar/test/xa.s15.00.mhz.1974-08-04HR00_evid00557.mseed  \n",
            "  inflating: data/lunar/test/xa.s12.00.mhz.1970-01-09HR00_evid00007.mseed  \n",
            "  inflating: data/lunar/test/xa.s12.00.mhz.1971-06-27HR00_evid00101.mseed  \n",
            "  inflating: data/lunar/test/xa.s15.00.mhz.1974-06-16HR00_evid00536.mseed  \n",
            "  inflating: data/lunar/test/xa.s12.00.mhz.1971-10-26HR00_evid00133.mseed  \n",
            "  inflating: data/lunar/test/xa.s12.00.mhz.1973-10-10HR00_evid00463.mseed  \n",
            "  inflating: data/lunar/test/xa.s16.00.mhz.1972-09-10HR00_evid00075.mseed  \n",
            "  inflating: data/lunar/test/xa.s15.00.mhz.1974-06-30HR00_evid00542.mseed  \n",
            "  inflating: data/lunar/test/xa.s15.00.mhz.1973-08-10HR00_evid00126.mseed  \n",
            "  inflating: data/lunar/test/xa.s12.00.mhz.1973-08-08HR00_evid00437.mseed  \n",
            "  inflating: data/lunar/test/xa.s12.00.mhz.1972-02-21HR00_evid00190.mseed  \n",
            "  inflating: data/lunar/test/xa.s16.00.mhz.1972-11-14HR00_evid00081.mseed  \n",
            "  inflating: data/lunar/test/xa.s12.00.mhz.1973-11-22HR00_evid00475.mseed  \n",
            "  inflating: data/lunar/test/xa.s12.00.mhz.1971-11-24HR00_evid00156.mseed  \n",
            "  inflating: data/lunar/test/xa.s16.00.mhz.1972-11-06HR00_evid00079.mseed  \n",
            "   creating: data/lunar/valid/\n",
            "   creating: data/mars/\n",
            "   creating: data/mars/catalog/\n",
            "  inflating: data/mars/catalog/Mars_InSight_training_catalog_final.csv  \n",
            "  inflating: data/mars/catalog/Mars_InSight_training_catalog.csv  \n",
            "   creating: data/mars/train/\n",
            "  inflating: data/mars/train/XB.ELYSE.02.BHV.2022-02-03HR08_evid0005.mseed  \n",
            "  inflating: data/mars/train/XB.ELYSE.02.BHV.2022-01-02HR04_evid0006.mseed  \n",
            "   creating: data/mars/valid/\n",
            "   creating: data/mars/test/\n",
            "  inflating: data/mars/test/XB.ELYSE.02.BHV.2021-10-11HR23_evid0011.mseed  \n",
            "  inflating: data/mars/test/XB.ELYSE.02.BHV.2021-05-02HR01_evid0017.mseed  \n",
            "  inflating: data/mars/test/XB.ELYSE.02.BHV.2021-12-24HR22_evid0007.mseed  \n",
            "  inflating: data/mars/test/XB.ELYSE.02.BHV.2019-07-26HR12_evid0034.mseed  \n",
            "  inflating: data/mars/test/XB.ELYSE.02.BHV.2019-07-26HR12_evid0033.mseed  \n",
            "  inflating: data/mars/test/XB.ELYSE.02.BHV.2019-05-23HR02_evid0041.mseed  \n",
            "  inflating: data/mars/test/XB.ELYSE.02.BHV.2019-09-21HR03_evid0032.mseed  \n",
            "  inflating: data/mars/test/XB.ELYSE.02.BHV.2022-04-09HR22_evid0002.mseed  \n",
            "  inflating: data/mars/test/XB.ELYSE.02.BHV.2022-05-04HR23_evid0001.mseed  \n"
          ]
        }
      ]
    },
    {
      "cell_type": "code",
      "source": [
        "%cd /content\n",
        "!ls"
      ],
      "metadata": {
        "colab": {
          "base_uri": "https://localhost:8080/"
        },
        "id": "-Yd6Mmg8lxu0",
        "outputId": "e263cfb4-5d80-4288-dc0a-098adef28d5b"
      },
      "execution_count": 48,
      "outputs": [
        {
          "output_type": "stream",
          "name": "stdout",
          "text": [
            "/content\n",
            "data  sample_data  spaceappschallenge_seismicdetection_data.zip\n"
          ]
        }
      ]
    },
    {
      "cell_type": "code",
      "source": [
        "#Install prerequisite packages\n",
        "%pip install obspy"
      ],
      "metadata": {
        "id": "zIee_wEmZkMV"
      },
      "execution_count": null,
      "outputs": []
    },
    {
      "cell_type": "code",
      "execution_count": 1,
      "metadata": {
        "id": "h-qZZR1UWXpR"
      },
      "outputs": [],
      "source": [
        "#Import modules\n",
        "import numpy as np\n",
        "import pandas as pd\n",
        "import obspy\n",
        "from obspy import read\n",
        "from datetime import datetime, timedelta\n",
        "import matplotlib.pyplot as plt\n",
        "import os\n",
        "import typing\n",
        "from typing import *"
      ]
    },
    {
      "cell_type": "code",
      "source": [
        "#GLOBAL VARIABLES\n",
        "DATASET_ROOT_PATH=\"data\""
      ],
      "metadata": {
        "id": "DAAm_IPjeHnP"
      },
      "execution_count": 50,
      "outputs": []
    },
    {
      "cell_type": "code",
      "source": [
        "#Dataset\n",
        "'''\n",
        "class to assimilate data ,\n",
        "Input: paths to dataset\n",
        "Output: Multi-dim matrix,  np.ndarray or torch.tensor\n",
        "'''\n",
        "class SeismicDataset:\n",
        "\n",
        "  def __init__(self,dataset_root:str)->None:\n",
        "    self.dataset_root=dataset_root\n",
        "    self.list_of_planets=[\"lunar\",\"mars\"]\n",
        "    self.modes=[\"train\",\"test\"]\n",
        "    self.dataset=None\n",
        "\n",
        "  def loadDataset(self)->np.ndarray:\n",
        "      '''\n",
        "      dataset of shape (Number of samples, timestamps)\n",
        "      '''\n",
        "      signal_stack=[]\n",
        "      for filename in self.dataset[\"filename\"]:\n",
        "        signal_stack.append(obspy.read(filename+\".mseed\")[0].data)\n",
        "      return np.array(signal_stack)\n",
        "\n",
        "  def generatePathToLogs(self)->None:\n",
        "    '''\n",
        "    returns a DataFrame with columns: filename,logname,time_rel(label)\n",
        "    '''\n",
        "    # Extract Catalog for time_rel aka label data\n",
        "    database_roots={\"catalog\":\n",
        "                    {\"lunar\":\n",
        "                    {\"train\":\"lunar/catalog\"},\n",
        "                    \"mars\":\n",
        "                    {\"train\":\"mars/catalog\"}\n",
        "                    }\n",
        "                  }\n",
        "    list_of_csvs_path=[]\n",
        "    for planet_data in database_roots.values():\n",
        "      for planet,data_cap in planet_data.items():\n",
        "        for data_category,path in data_cap.items():\n",
        "          path1=os.path.join(self.dataset_root,path)\n",
        "          list_dirs=os.listdir(path1)\n",
        "          for csvpath in list_dirs:\n",
        "              path2=os.path.join(path1,csvpath)\n",
        "              assert os.path.isfile(path2), \"Path not found\"\n",
        "              list_of_csvs_path.append(path2)\n",
        "\n",
        "    catalog=[]\n",
        "\n",
        "    for csv_path in list_of_csvs_path:\n",
        "      df=pd.read_csv(csv_path)\n",
        "      df[\"logname\"]=df[\"filename\"].apply(lambda name: name.strip(\".csv\").strip(\".mseed\"))\n",
        "      df = df.sort_values(by='logname')\n",
        "      df=df.reset_index(drop=True)\n",
        "      df.name=\"_\".join(csv_path.split(\"/\")[1:3])\n",
        "      catalog.append(df)\n",
        "    lunar_catalog=catalog[0]\n",
        "    mars_catalog=pd.merge(catalog[1],catalog[2])\n",
        "    #Extract signal data\n",
        "\n",
        "    database_roots={\"data\":\n",
        "                  {\"lunar\":\n",
        "                  {\"train\":\"lunar/train\",\n",
        "                  \"test\":\"lunar/test\"},\n",
        "                  \"mars\":\n",
        "                  {\"train\":\"mars/train\",\n",
        "                  \"test\":\"mars/test\"}\n",
        "                  }\n",
        "                }\n",
        "    list_of_csvs=[]\n",
        "\n",
        "    for planet_data in database_roots.values():\n",
        "        for planet,data_cap in planet_data.items():\n",
        "            for data_category,path in data_cap.items():\n",
        "                df=pd.DataFrame(columns=[\"filename\",])\n",
        "\n",
        "                path1=os.path.join(self.dataset_root,path)\n",
        "                scandir=os.scandir(path1)\n",
        "                respaths=[]\n",
        "                lognames=[]\n",
        "                for sample in scandir:\n",
        "\n",
        "                  res_path=os.path.join(path1,sample.name.strip(\".csv\").strip(\".mseed\"))\n",
        "                  log_name=sample.name.strip(\".csv\").strip(\".mseed\")\n",
        "                  respaths.append(res_path)\n",
        "                  lognames.append(log_name)\n",
        "\n",
        "                df=pd.concat([df,pd.DataFrame({\"filename\":res_path,\"logname\":lognames})])\n",
        "                df.attrs[\"metadata\"]={\"name\":planet,\"type\":data_category}\n",
        "                df= df.groupby(level=0).first()\n",
        "                df = df.sort_values(by='logname')\n",
        "                df = df.reset_index(drop=True)\n",
        "                list_of_csvs.append(df)\n",
        "                del df\n",
        "\n",
        "    lunar_train_signals_table=list_of_csvs[0]\n",
        "    lunar_test_signals_table=list_of_csvs[1]\n",
        "    mars_train_signals_table=list_of_csvs[2]\n",
        "    mars_test_signals_table=list_of_csvs[3]\n",
        "\n",
        "    # Perform an inner join with logname to get a dataframe\n",
        "    lunar_training_data=pd.merge(lunar_train_signals_table,lunar_catalog, on='logname')\n",
        "    lunar_training_data=lunar_training_data.drop(columns=[\"filename_y\"])\n",
        "    lunar_training_data=lunar_training_data.rename(columns={\"filename_x\":\"filename\"})\n",
        "\n",
        "    self.dataset=lunar_training_data\n",
        "\n",
        "\n",
        "'''\n",
        "Test block\n",
        "'''\n",
        "dataTester=SeismicDataset(DATASET_ROOT_PATH)\n",
        "dataTester.generatePathToLogs()\n",
        "train_data=dataTester.loadDataset()"
      ],
      "metadata": {
        "id": "s8HsbRa8YU3K"
      },
      "execution_count": 173,
      "outputs": []
    },
    {
      "cell_type": "code",
      "source": [
        "#PreProcessing\n",
        "'''\n",
        "Input:Signal\n",
        "Output: Transformed / Augmented data\n",
        "'''"
      ],
      "metadata": {
        "id": "ZqlNpYb9ajru"
      },
      "execution_count": null,
      "outputs": []
    },
    {
      "cell_type": "code",
      "source": [
        "# Model Definition\n",
        "'''\n",
        "Define model architectures\n",
        "Input: tensor signal\n",
        "Output: binary signal\n",
        "'''"
      ],
      "metadata": {
        "id": "j4CSv1ysaQ_n"
      },
      "execution_count": null,
      "outputs": []
    },
    {
      "cell_type": "code",
      "source": [
        "# Model Training\n",
        "'''\n",
        "Define optimizers, hyperparams,\n",
        "Start/end Training, store model checkpoint\n",
        "\n",
        "'''"
      ],
      "metadata": {
        "id": "FvBwQN-ha6NZ"
      },
      "execution_count": null,
      "outputs": []
    },
    {
      "cell_type": "code",
      "source": [
        "#Evaluation\n",
        "'''\n",
        "Input: Model, test data\n",
        "Output: pd.Dataframe or similar table with evaluation results\n",
        "'''"
      ],
      "metadata": {
        "id": "LI8BnYDwbLpm"
      },
      "execution_count": null,
      "outputs": []
    },
    {
      "cell_type": "code",
      "source": [
        "#Demo app\n",
        "'''\n",
        "Input: Model, sample input signal\n",
        "'''"
      ],
      "metadata": {
        "id": "dq4G5UYGblYl"
      },
      "execution_count": null,
      "outputs": []
    }
  ]
}