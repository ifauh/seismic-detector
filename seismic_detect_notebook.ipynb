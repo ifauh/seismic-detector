{
  "cells": [
    {
      "cell_type": "code",
      "execution_count": 2,
      "metadata": {
        "colab": {
          "base_uri": "https://localhost:8080/"
        },
        "id": "3nH4oYs_lMAK",
        "outputId": "9ca69bee-8d9f-42c1-d3e0-15d331787862"
      },
      "outputs": [
        {
          "output_type": "stream",
          "name": "stdout",
          "text": [
            "--2024-10-06 15:23:42--  http://dtn-max.ifa.hawaii.edu/SpaceApps/2024/spaceappschallenge_seismicdetection_data.zip\n",
            "Resolving dtn-max.ifa.hawaii.edu (dtn-max.ifa.hawaii.edu)... 206.196.177.123\n",
            "Connecting to dtn-max.ifa.hawaii.edu (dtn-max.ifa.hawaii.edu)|206.196.177.123|:80... connected.\n",
            "HTTP request sent, awaiting response... 200 OK\n",
            "Length: 756718846 (722M) [application/zip]\n",
            "Saving to: ‘spaceappschallenge_seismicdetection_data.zip.1’\n",
            "\n",
            "spaceappschallenge_ 100%[===================>] 721.66M   135MB/s    in 7.2s    \n",
            "\n",
            "2024-10-06 15:23:50 (100 MB/s) - ‘spaceappschallenge_seismicdetection_data.zip.1’ saved [756718846/756718846]\n",
            "\n"
          ]
        }
      ],
      "source": [
        "!wget http://dtn-max.ifa.hawaii.edu/SpaceApps/2024/spaceappschallenge_seismicdetection_data.zip"
      ]
    },
    {
      "cell_type": "code",
      "execution_count": 3,
      "metadata": {
        "id": "oB3RlppulbKj",
        "colab": {
          "base_uri": "https://localhost:8080/"
        },
        "outputId": "34a398ad-e5f7-4b93-8ce0-c352c6d40eab"
      },
      "outputs": [
        {
          "output_type": "stream",
          "name": "stdout",
          "text": [
            "Archive:  spaceappschallenge_seismicdetection_data.zip\n",
            "replace data/lunar/catalog/apollo12_catalog_GradeA_final.csv? [y]es, [n]o, [A]ll, [N]one, [r]ename: N\n"
          ]
        }
      ],
      "source": [
        "!unzip spaceappschallenge_seismicdetection_data.zip"
      ]
    },
    {
      "cell_type": "code",
      "execution_count": 4,
      "metadata": {
        "id": "-Yd6Mmg8lxu0",
        "colab": {
          "base_uri": "https://localhost:8080/"
        },
        "outputId": "a38cb28e-9fe9-4645-d221-9ee7a2ec8a6e"
      },
      "outputs": [
        {
          "output_type": "stream",
          "name": "stdout",
          "text": [
            "/content\n",
            "data\t     spaceappschallenge_seismicdetection_data.zip\n",
            "sample_data  spaceappschallenge_seismicdetection_data.zip.1\n"
          ]
        }
      ],
      "source": [
        "%cd /content\n",
        "!ls"
      ]
    },
    {
      "cell_type": "code",
      "execution_count": 5,
      "metadata": {
        "id": "zIee_wEmZkMV",
        "colab": {
          "base_uri": "https://localhost:8080/"
        },
        "outputId": "a9aa9596-647d-4da3-94cf-d083447270ad"
      },
      "outputs": [
        {
          "output_type": "stream",
          "name": "stdout",
          "text": [
            "Requirement already satisfied: obspy in /usr/local/lib/python3.10/dist-packages (1.4.1)\n",
            "Requirement already satisfied: numpy>=1.20 in /usr/local/lib/python3.10/dist-packages (from obspy) (1.26.4)\n",
            "Requirement already satisfied: scipy>=1.7 in /usr/local/lib/python3.10/dist-packages (from obspy) (1.13.1)\n",
            "Requirement already satisfied: matplotlib>=3.3 in /usr/local/lib/python3.10/dist-packages (from obspy) (3.7.1)\n",
            "Requirement already satisfied: lxml in /usr/local/lib/python3.10/dist-packages (from obspy) (4.9.4)\n",
            "Requirement already satisfied: setuptools in /usr/local/lib/python3.10/dist-packages (from obspy) (71.0.4)\n",
            "Requirement already satisfied: sqlalchemy<2 in /usr/local/lib/python3.10/dist-packages (from obspy) (1.4.54)\n",
            "Requirement already satisfied: decorator in /usr/local/lib/python3.10/dist-packages (from obspy) (4.4.2)\n",
            "Requirement already satisfied: requests in /usr/local/lib/python3.10/dist-packages (from obspy) (2.32.3)\n",
            "Requirement already satisfied: contourpy>=1.0.1 in /usr/local/lib/python3.10/dist-packages (from matplotlib>=3.3->obspy) (1.3.0)\n",
            "Requirement already satisfied: cycler>=0.10 in /usr/local/lib/python3.10/dist-packages (from matplotlib>=3.3->obspy) (0.12.1)\n",
            "Requirement already satisfied: fonttools>=4.22.0 in /usr/local/lib/python3.10/dist-packages (from matplotlib>=3.3->obspy) (4.54.1)\n",
            "Requirement already satisfied: kiwisolver>=1.0.1 in /usr/local/lib/python3.10/dist-packages (from matplotlib>=3.3->obspy) (1.4.7)\n",
            "Requirement already satisfied: packaging>=20.0 in /usr/local/lib/python3.10/dist-packages (from matplotlib>=3.3->obspy) (24.1)\n",
            "Requirement already satisfied: pillow>=6.2.0 in /usr/local/lib/python3.10/dist-packages (from matplotlib>=3.3->obspy) (10.4.0)\n",
            "Requirement already satisfied: pyparsing>=2.3.1 in /usr/local/lib/python3.10/dist-packages (from matplotlib>=3.3->obspy) (3.1.4)\n",
            "Requirement already satisfied: python-dateutil>=2.7 in /usr/local/lib/python3.10/dist-packages (from matplotlib>=3.3->obspy) (2.8.2)\n",
            "Requirement already satisfied: greenlet!=0.4.17 in /usr/local/lib/python3.10/dist-packages (from sqlalchemy<2->obspy) (3.1.1)\n",
            "Requirement already satisfied: charset-normalizer<4,>=2 in /usr/local/lib/python3.10/dist-packages (from requests->obspy) (3.3.2)\n",
            "Requirement already satisfied: idna<4,>=2.5 in /usr/local/lib/python3.10/dist-packages (from requests->obspy) (3.10)\n",
            "Requirement already satisfied: urllib3<3,>=1.21.1 in /usr/local/lib/python3.10/dist-packages (from requests->obspy) (2.2.3)\n",
            "Requirement already satisfied: certifi>=2017.4.17 in /usr/local/lib/python3.10/dist-packages (from requests->obspy) (2024.8.30)\n",
            "Requirement already satisfied: six>=1.5 in /usr/local/lib/python3.10/dist-packages (from python-dateutil>=2.7->matplotlib>=3.3->obspy) (1.16.0)\n"
          ]
        }
      ],
      "source": [
        "#Install prerequisite packages\n",
        "%pip install obspy\n",
        "%pip install deepod\n",
        "%pip install noisereduce\n"
      ]
    },
    {
      "cell_type": "code",
      "execution_count": 1,
      "metadata": {
        "id": "h-qZZR1UWXpR"
      },
      "outputs": [],
      "source": [
        "#Import modules\n",
        "import numpy as np\n",
        "import pandas as pd\n",
        "import scipy\n",
        "from scipy.signal import hilbert,find_peaks\n",
        "from scipy.interpolate import UnivariateSpline\n",
        "import obspy\n",
        "from obspy import read\n",
        "from datetime import datetime, timedelta\n",
        "import matplotlib.pyplot as plt\n",
        "import os\n",
        "import typing\n",
        "from typing import *\n",
        "import gc\n",
        "\n",
        "%matplotlib inline"
      ]
    },
    {
      "cell_type": "code",
      "execution_count": 2,
      "metadata": {
        "id": "DAAm_IPjeHnP"
      },
      "outputs": [],
      "source": [
        "#GLOBAL VARIABLES\n",
        "DATASET_ROOT_PATH=\"data\""
      ]
    },
    {
      "cell_type": "code",
      "execution_count": 12,
      "metadata": {
        "id": "s8HsbRa8YU3K",
        "colab": {
          "base_uri": "https://localhost:8080/"
        },
        "outputId": "0c31f5e2-f445-4448-fb81-2faff58509a5"
      },
      "outputs": [
        {
          "output_type": "stream",
          "name": "stdout",
          "text": [
            "Index(['filename', 'logname', 'time_abs(%Y-%m-%dT%H:%M:%S.%f)',\n",
            "       'time_rel(sec)', 'evid', 'mq_type'],\n",
            "      dtype='object')\n"
          ]
        }
      ],
      "source": [
        "#Dataset\n",
        "'''\n",
        "class to assimilate data ,\n",
        "Input: paths to dataset\n",
        "Output: Multi-dim matrix,  np.ndarray or torch.tensor\n",
        "'''\n",
        "class SeismicDataset:\n",
        "\n",
        "  def __init__(self,dataset_root:str)->None:\n",
        "    self.dataset_root=dataset_root\n",
        "    self.list_of_planets=[\"lunar\",\"mars\"]\n",
        "    self.modes=[\"train\",\"test\"]\n",
        "    self.dataset=None\n",
        "  #Deprecated because it causes RAM consumption, use dataloader instead\n",
        "  def loadDataset(self,pad_seq=False,ohe=False,n_classes:Optional[int]=1)->np.ndarray:\n",
        "      '''\n",
        "      dataset of shape (Number of samples, timestamps)\n",
        "      '''\n",
        "      signal_stack=[]\n",
        "      labels=[]\n",
        "      sampling_rate=[]\n",
        "\n",
        "      for i,row in self.dataset.iterrows():\n",
        "        filename=row[\"filename\"]\n",
        "        time_rel=row[\"time_rel(sec)\"]\n",
        "        signal = obspy.read(filename + \".mseed\")\n",
        "        signal_stack.append(signal[0].data)\n",
        "        labels.append(time_rel)\n",
        "        sampling_rate.append(signal[0].stats.sampling_rate)\n",
        "      if pad_seq:\n",
        "        signal_stack=self.padSequences(signal_stack)\n",
        "      if ohe:\n",
        "        labels=self.one_hot_encode(labels,n_classes)\n",
        "      return signal_stack, labels, sampling_rate\n",
        "\n",
        "  def loadTestset(self,pad_seq=False)->np.ndarray:\n",
        "      '''\n",
        "      dataset of shape (Number of samples, timestamps)\n",
        "      '''\n",
        "      signal_stack=[]\n",
        "      sampling_rate=[]\n",
        "\n",
        "      for i,row in self.testset.iterrows():\n",
        "        filename=row[\"filename\"]\n",
        "        signal = obspy.read(filename + \".mseed\")\n",
        "        signal_stack.append(signal[0].data)\n",
        "        sampling_rate.append(signal[0].stats.sampling_rate)\n",
        "      if pad_seq:\n",
        "        signal_stack=self.padSequences(signal_stack)\n",
        "      return signal_stack, sampling_rate\n",
        "\n",
        "  def loadPredictions(self, predicted):\n",
        "      '''\n",
        "      dataset of shape (Number of samples)\n",
        "      '''\n",
        "      filename = []\n",
        "      for i,row in self.testset.iterrows():\n",
        "        filename.append(row[\"filename\"])\n",
        "      df = pd.DataFrame(filename, columns=['Filename'])\n",
        "      df['prediction'] = predicted\n",
        "      # TODO convert predicted time slot to an Absolute (or relative?) time\n",
        "\n",
        "      return df\n",
        "\n",
        "  def one_hot_encode(self,array:np.ndarray, num_classes:int):\n",
        "    # Create a zero array of shape (array_len, num_classes)\n",
        "    n_samples=len(array)\n",
        "    sample_hist={}\n",
        "    for sample in train_data:\n",
        "      maxlen=max(sample.shape)\n",
        "      if maxlen not in sample_hist.keys():\n",
        "        sample_hist[maxlen]=1\n",
        "      else:\n",
        "        sample_hist[maxlen]+=1\n",
        "\n",
        "    maxlen=max(sample_hist.keys())\n",
        "\n",
        "    one_hot = np.zeros((n_samples,maxlen))\n",
        "\n",
        "    # Use NumPy's advanced indexing to place 1s\n",
        "    one_hot[:,np.array(array,dtype=np.uint32)] = 1\n",
        "    return one_hot\n",
        "\n",
        "  def padSequences(self,train_data):\n",
        "\n",
        "    sample_hist={}\n",
        "    for sample in train_data:\n",
        "      maxlen=max(sample.shape)\n",
        "      if maxlen not in sample_hist.keys():\n",
        "        sample_hist[maxlen]=1\n",
        "      else:\n",
        "        sample_hist[maxlen]+=1\n",
        "\n",
        "    maxlen=max(sample_hist.keys())\n",
        "    x_train=np.zeros((len(train_data),maxlen))\n",
        "    for i,xsample in enumerate(train_data):\n",
        "      clen=len(xsample)\n",
        "      x_train[i,:clen]=xsample[:clen]\n",
        "    return x_train\n",
        "\n",
        "  def generatePathToLogs(self,mode:Literal[\"train\",\"test\"],planet:Literal[\"lunar\",\"mars\"],split:float=0.8)->None:\n",
        "    '''\n",
        "    returns a DataFrame with columns: filename,logname,time_rel(label)\n",
        "    split: percent of actual train data from train data, rest goes to validation\n",
        "    '''\n",
        "    # Extract Catalog for time_rel aka label data\n",
        "    mode_orig=mode\n",
        "    mode = \"train\" if mode in [\"train\",\"valid\"] else \"test\"\n",
        "    if mode in [\"train\",\"valid\"]:\n",
        "      mode=\"train\"\n",
        "      rel_path_to_cat=planet+\"/catalog\"\n",
        "      database_roots={\"catalog\":\n",
        "                      {\n",
        "                      planet:\n",
        "                      {mode:rel_path_to_cat,}\n",
        "                      }\n",
        "                    }\n",
        "\n",
        "      list_of_csvs_path=[]\n",
        "      for planet_data in database_roots.values():\n",
        "        for planet,data_cap in planet_data.items():\n",
        "          for data_category,path in data_cap.items():\n",
        "            path1=os.path.join(self.dataset_root,path)\n",
        "            list_dirs=os.listdir(path1)\n",
        "            for csvpath in list_dirs:\n",
        "                path2=os.path.join(path1,csvpath)\n",
        "                assert os.path.isfile(path2), \"Path not found\"\n",
        "                list_of_csvs_path.append(path2)\n",
        "\n",
        "      catalog=[]\n",
        "\n",
        "      for csv_path in list_of_csvs_path:\n",
        "        df=pd.read_csv(csv_path)\n",
        "        df[\"logname\"]=df[\"filename\"].apply(lambda name: name.strip(\".csv\").strip(\".mseed\"))\n",
        "\n",
        "        df.name=\"_\".join(csv_path.split(\"/\")[1:3])\n",
        "        catalog.append(df)\n",
        "\n",
        "      del list_of_csvs_path\n",
        "\n",
        "      catalog=catalog[0]\n",
        "\n",
        "      #Signal extraction\n",
        "      rel_path_to_data=planet+\"/\"+mode\n",
        "      database_roots={\"data\":\n",
        "                    {planet:\n",
        "                    {mode:rel_path_to_data},\n",
        "                    }\n",
        "                  }\n",
        "      list_of_csvs=[]\n",
        "\n",
        "      for planet_data in database_roots.values():\n",
        "          for planet,data_cap in planet_data.items():\n",
        "              for data_category,path in data_cap.items():\n",
        "                  path1=os.path.join(self.dataset_root,path)\n",
        "                  scandir=os.scandir(path1)\n",
        "                  respaths=[]\n",
        "                  lognames=[]\n",
        "                  for sample in scandir:\n",
        "\n",
        "                    res_path=os.path.join(path1,sample.name.strip(\".csv\").strip(\".mseed\"))\n",
        "                    log_name=sample.name.strip(\".csv\").strip(\".mseed\")\n",
        "                    respaths.append(res_path)\n",
        "                    lognames.append(log_name)\n",
        "\n",
        "                  df=pd.DataFrame({\"filename\":respaths,\"logname\":lognames})\n",
        "                  df.attrs[\"metadata\"]={\"name\":planet,\"type\":data_category}\n",
        "                  list_of_csvs.append(df)\n",
        "                  del df\n",
        "\n",
        "      signals_table=list_of_csvs[0]\n",
        "      del list_of_csvs\n",
        "      training_data=pd.merge(signals_table,catalog, on='logname')\n",
        "      training_data=training_data.drop(columns=[\"filename_y\"])\n",
        "      training_data=training_data.rename(columns={\"filename_x\":\"filename\"})\n",
        "      self.dataset=training_data.copy()\n",
        "      if mode_orig==\"valid\":\n",
        "        n_rows_to_drop = int(self.dataset.shape[0] * split)\n",
        "        # Drop the first split percent of rows\n",
        "        self.dataset = self.dataset.iloc[n_rows_to_drop:].reset_index(drop=True)\n",
        "\n",
        "    elif mode==\"test\":\n",
        "      #Signal extraction\n",
        "      rel_path_to_data=planet+\"/\"+mode\n",
        "      database_roots={\"data\":\n",
        "                    {planet:\n",
        "                    {mode:rel_path_to_data},\n",
        "                    }\n",
        "                  }\n",
        "      list_of_csvs=[]\n",
        "\n",
        "      for planet_data in database_roots.values():\n",
        "          for planet,data_cap in planet_data.items():\n",
        "              for data_category,path in data_cap.items():\n",
        "                  path1=os.path.join(self.dataset_root,path)\n",
        "                  scandir=os.scandir(path1)\n",
        "                  respaths=[]\n",
        "                  lognames=[]\n",
        "                  for sample in scandir:\n",
        "\n",
        "                    res_path=os.path.join(path1,sample.name.strip(\".csv\").strip(\".mseed\"))\n",
        "                    log_name=sample.name.strip(\".csv\").strip(\".mseed\")\n",
        "                    respaths.append(res_path)\n",
        "                    lognames.append(log_name)\n",
        "\n",
        "                  df=pd.DataFrame({\"filename\":respaths,\"logname\":lognames})\n",
        "                  df.attrs[\"metadata\"]={\"name\":planet,\"type\":data_category}\n",
        "                  list_of_csvs.append(df)\n",
        "                  del df\n",
        "\n",
        "      signals_table=list_of_csvs[0]\n",
        "      self.dataset=signals_table.copy()\n",
        "      del list_of_csvs\n",
        "      del signals_table\n",
        "\n",
        "    gc.collect()\n",
        "\n",
        "'''\n",
        "Test block\n",
        "'''\n",
        "dataTester=SeismicDataset(DATASET_ROOT_PATH)\n",
        "dataTester.generatePathToLogs(mode=\"train\",planet=\"lunar\")\n",
        "print(dataTester.dataset.keys())"
      ]
    },
    {
      "cell_type": "code",
      "source": [
        "from threading import current_thread\n",
        "from pickle import GLOBAL\n",
        "from torch.nn.utils.rnn import pad_sequence\n",
        "#Dataset\n",
        "'''\n",
        "PyTorch DataLoader\n",
        "'''\n",
        "def custom_collate(batch):\n",
        "    snippets, labels = zip(*batch)\n",
        "    snippets_padded = pad_sequence(snippets, batch_first=True)\n",
        "    labels = torch.tensor(labels)\n",
        "    return snippets_padded, labels\n",
        "\n",
        "import torch\n",
        "import torchvision.transforms as transforms\n",
        "MAX_SEQ_LEN=max(float('-inf'),572400)\n",
        "\n",
        "class SeismicDataloader(torch.utils.data.Dataset):\n",
        "    def __init__(self,window_size:int,*args, **kwargs):\n",
        "        super().__init__()\n",
        "\n",
        "        global MAX_SEQ_LEN\n",
        "\n",
        "        dataTester=SeismicDataset(DATASET_ROOT_PATH)\n",
        "        dataTester.generatePathToLogs(**kwargs)\n",
        "\n",
        "        mode = kwargs.get(\"mode\")\n",
        "        self.dataset_map=dataTester.dataset.copy()\n",
        "\n",
        "\n",
        "        \"\"\"for i,row in self.dataset_map.iterrows():\n",
        "          filename=row[\"filename\"]\n",
        "          if mode != \"test\":\n",
        "            time_rel=row[\"time_rel(sec)\"]\n",
        "          signal = np.array(obspy.read(filename + \".mseed\"))\n",
        "          if MAX_SEQ_LEN < max(signal.shape):\n",
        "            MAX_SEQ_LEN = max(signal.shape)\n",
        "          del signal\n",
        "        MAX_SEQ_LEN=int(MAX_SEQ_LEN/100)*100\n",
        "        print(MAX_SEQ_LEN)\"\"\"\n",
        "\n",
        "        n_samples=self.dataset_map.shape[0]\n",
        "        self.length=n_samples*MAX_SEQ_LEN//window_size\n",
        "        print(self.length)\n",
        "        # Initialize other attributes or data loading processes here\n",
        "        self.current_signal=None\n",
        "        self.idx_tracker=0\n",
        "        self.max_seq_len=MAX_SEQ_LEN\n",
        "        self.window_size=window_size\n",
        "        self.transform=transform = transforms.Compose([\n",
        "    transforms.ToTensor(),\n",
        "    transforms.Normalize(mean=[0.0], std=[1.0])  # Adjust mean and std based on your data\n",
        "])\n",
        "    def __len__(self):\n",
        "        # Implement length method\n",
        "        return self.length\n",
        "\n",
        "    def __getitem__(self, index):\n",
        "        offset=index*self.window_size\n",
        "        self.idx_tracker=offset//self.max_seq_len\n",
        "\n",
        "        filename, label = self.dataset_map.iloc[self.idx_tracker][[\"filename\", \"time_rel(sec)\"]]\n",
        "        signal = obspy.read(filename + \".mseed\")[0].data\n",
        "\n",
        "        self.current_signal = np.array(signal).reshape(1,-1)\n",
        "\n",
        "        start = offset-self.idx_tracker * self.max_seq_len\n",
        "        end = start + self.window_size\n",
        "\n",
        "        snippet = self.current_signal[:,start:end]\n",
        "\n",
        "        if snippet.shape[1] < self.window_size:\n",
        "          padding_width = self.window_size - snippet.shape[1]\n",
        "          snippet = np.pad(snippet, ((0, 0), (0, padding_width)), mode='constant', constant_values=0)\n",
        "\n",
        "        if end > self.current_signal.shape[0]:\n",
        "            self.current_signal = None\n",
        "\n",
        "        label_ohe = np.zeros((1,self.window_size))\n",
        "\n",
        "        if label > start and label < end:\n",
        "            label_ohe[:,int(label - start)] = 1\n",
        "        snippet = np.expand_dims(snippet, axis=0)\n",
        "        snippet = torch.tensor(snippet, dtype=torch.float32)\n",
        "        label_ohe = torch.tensor(label,dtype=torch.float32)\n",
        "\n",
        "        return snippet, label_ohe"
      ],
      "metadata": {
        "colab": {
          "base_uri": "https://localhost:8080/",
          "height": 36
        },
        "id": "ijS3ce4unhmG",
        "outputId": "49c935f4-fc87-49b7-81d5-b9567403a298"
      },
      "execution_count": 93,
      "outputs": [
        {
          "output_type": "execute_result",
          "data": {
            "text/plain": [
              "'\\n'"
            ],
            "application/vnd.google.colaboratory.intrinsic+json": {
              "type": "string"
            }
          },
          "metadata": {},
          "execution_count": 93
        }
      ]
    },
    {
      "cell_type": "code",
      "source": [
        "from torch.utils.data import DataLoader\n",
        "mydataloader=SeismicDataloader(window_size=30000,mode=\"train\",planet=\"lunar\")\n",
        "\n",
        "# Create DataLoader with batch size\n",
        "data_loader = DataLoader(mydataloader, batch_size=32, shuffle=True,collate_fn=custom_collate)\n",
        "\n",
        "# Iterate through the data loader to get batches\n",
        "for i, (snippets, labels) in enumerate(data_loader):\n",
        "    print(f\"Batch {i+1}:\")\n",
        "    print(f\"Snippets: {snippets.shape}\")\n",
        "    print(f\"Labels: {labels.shape}\")"
      ],
      "metadata": {
        "colab": {
          "base_uri": "https://localhost:8080/"
        },
        "id": "RrNQFBS64ezM",
        "outputId": "e3cd7656-3fc0-4d04-a15b-b53da6aa639e"
      },
      "execution_count": 94,
      "outputs": [
        {
          "output_type": "stream",
          "name": "stdout",
          "text": [
            "1431\n",
            "Batch 1:\n",
            "Snippets: torch.Size([32, 1, 1, 30000])\n",
            "Labels: torch.Size([32])\n",
            "Batch 2:\n",
            "Snippets: torch.Size([32, 1, 1, 30000])\n",
            "Labels: torch.Size([32])\n",
            "Batch 3:\n",
            "Snippets: torch.Size([32, 1, 1, 30000])\n",
            "Labels: torch.Size([32])\n",
            "Batch 4:\n",
            "Snippets: torch.Size([32, 1, 1, 30000])\n",
            "Labels: torch.Size([32])\n",
            "Batch 5:\n",
            "Snippets: torch.Size([32, 1, 1, 30000])\n",
            "Labels: torch.Size([32])\n",
            "Batch 6:\n",
            "Snippets: torch.Size([32, 1, 1, 30000])\n",
            "Labels: torch.Size([32])\n",
            "Batch 7:\n",
            "Snippets: torch.Size([32, 1, 1, 30000])\n",
            "Labels: torch.Size([32])\n",
            "Batch 8:\n",
            "Snippets: torch.Size([32, 1, 1, 30000])\n",
            "Labels: torch.Size([32])\n",
            "Batch 9:\n",
            "Snippets: torch.Size([32, 1, 1, 30000])\n",
            "Labels: torch.Size([32])\n",
            "Batch 10:\n",
            "Snippets: torch.Size([32, 1, 1, 30000])\n",
            "Labels: torch.Size([32])\n",
            "Batch 11:\n",
            "Snippets: torch.Size([32, 1, 1, 30000])\n",
            "Labels: torch.Size([32])\n",
            "Batch 12:\n",
            "Snippets: torch.Size([32, 1, 1, 30000])\n",
            "Labels: torch.Size([32])\n",
            "Batch 13:\n",
            "Snippets: torch.Size([32, 1, 1, 30000])\n",
            "Labels: torch.Size([32])\n",
            "Batch 14:\n",
            "Snippets: torch.Size([32, 1, 1, 30000])\n",
            "Labels: torch.Size([32])\n",
            "Batch 15:\n",
            "Snippets: torch.Size([32, 1, 1, 30000])\n",
            "Labels: torch.Size([32])\n",
            "Batch 16:\n",
            "Snippets: torch.Size([32, 1, 1, 30000])\n",
            "Labels: torch.Size([32])\n",
            "Batch 17:\n",
            "Snippets: torch.Size([32, 1, 1, 30000])\n",
            "Labels: torch.Size([32])\n",
            "Batch 18:\n",
            "Snippets: torch.Size([32, 1, 1, 30000])\n",
            "Labels: torch.Size([32])\n",
            "Batch 19:\n",
            "Snippets: torch.Size([32, 1, 1, 30000])\n",
            "Labels: torch.Size([32])\n",
            "Batch 20:\n",
            "Snippets: torch.Size([32, 1, 1, 30000])\n",
            "Labels: torch.Size([32])\n",
            "Batch 21:\n",
            "Snippets: torch.Size([32, 1, 1, 30000])\n",
            "Labels: torch.Size([32])\n",
            "Batch 22:\n",
            "Snippets: torch.Size([32, 1, 1, 30000])\n",
            "Labels: torch.Size([32])\n",
            "Batch 23:\n",
            "Snippets: torch.Size([32, 1, 1, 30000])\n",
            "Labels: torch.Size([32])\n",
            "Batch 24:\n",
            "Snippets: torch.Size([32, 1, 1, 30000])\n",
            "Labels: torch.Size([32])\n",
            "Batch 25:\n",
            "Snippets: torch.Size([32, 1, 1, 30000])\n",
            "Labels: torch.Size([32])\n",
            "Batch 26:\n",
            "Snippets: torch.Size([32, 1, 1, 30000])\n",
            "Labels: torch.Size([32])\n",
            "Batch 27:\n",
            "Snippets: torch.Size([32, 1, 1, 30000])\n",
            "Labels: torch.Size([32])\n",
            "Batch 28:\n",
            "Snippets: torch.Size([32, 1, 1, 30000])\n",
            "Labels: torch.Size([32])\n",
            "Batch 29:\n",
            "Snippets: torch.Size([32, 1, 1, 30000])\n",
            "Labels: torch.Size([32])\n",
            "Batch 30:\n",
            "Snippets: torch.Size([32, 1, 1, 30000])\n",
            "Labels: torch.Size([32])\n",
            "Batch 31:\n",
            "Snippets: torch.Size([32, 1, 1, 30000])\n",
            "Labels: torch.Size([32])\n",
            "Batch 32:\n",
            "Snippets: torch.Size([32, 1, 1, 30000])\n",
            "Labels: torch.Size([32])\n",
            "Batch 33:\n",
            "Snippets: torch.Size([32, 1, 1, 30000])\n",
            "Labels: torch.Size([32])\n",
            "Batch 34:\n",
            "Snippets: torch.Size([32, 1, 1, 30000])\n",
            "Labels: torch.Size([32])\n",
            "Batch 35:\n",
            "Snippets: torch.Size([32, 1, 1, 30000])\n",
            "Labels: torch.Size([32])\n",
            "Batch 36:\n",
            "Snippets: torch.Size([32, 1, 1, 30000])\n",
            "Labels: torch.Size([32])\n",
            "Batch 37:\n",
            "Snippets: torch.Size([32, 1, 1, 30000])\n",
            "Labels: torch.Size([32])\n",
            "Batch 38:\n",
            "Snippets: torch.Size([32, 1, 1, 30000])\n",
            "Labels: torch.Size([32])\n",
            "Batch 39:\n",
            "Snippets: torch.Size([32, 1, 1, 30000])\n",
            "Labels: torch.Size([32])\n",
            "Batch 40:\n",
            "Snippets: torch.Size([32, 1, 1, 30000])\n",
            "Labels: torch.Size([32])\n",
            "Batch 41:\n",
            "Snippets: torch.Size([32, 1, 1, 30000])\n",
            "Labels: torch.Size([32])\n",
            "Batch 42:\n",
            "Snippets: torch.Size([32, 1, 1, 30000])\n",
            "Labels: torch.Size([32])\n",
            "Batch 43:\n",
            "Snippets: torch.Size([32, 1, 1, 30000])\n",
            "Labels: torch.Size([32])\n",
            "Batch 44:\n",
            "Snippets: torch.Size([32, 1, 1, 30000])\n",
            "Labels: torch.Size([32])\n",
            "Batch 45:\n",
            "Snippets: torch.Size([23, 1, 1, 30000])\n",
            "Labels: torch.Size([23])\n"
          ]
        }
      ]
    },
    {
      "cell_type": "code",
      "source": [
        "%pip install torch --upgrade"
      ],
      "metadata": {
        "colab": {
          "base_uri": "https://localhost:8080/",
          "height": 1000
        },
        "id": "6xPqzqmcvE4g",
        "outputId": "357f7142-fc41-47b4-d6ec-8aeb4eeee70c"
      },
      "execution_count": 68,
      "outputs": [
        {
          "output_type": "stream",
          "name": "stdout",
          "text": [
            "Requirement already satisfied: torch in /usr/local/lib/python3.10/dist-packages (1.13.0)\n",
            "Collecting torch\n",
            "  Downloading torch-2.4.1-cp310-cp310-manylinux1_x86_64.whl.metadata (26 kB)\n",
            "Requirement already satisfied: filelock in /usr/local/lib/python3.10/dist-packages (from torch) (3.16.1)\n",
            "Requirement already satisfied: typing-extensions>=4.8.0 in /usr/local/lib/python3.10/dist-packages (from torch) (4.12.2)\n",
            "Requirement already satisfied: sympy in /usr/local/lib/python3.10/dist-packages (from torch) (1.13.3)\n",
            "Requirement already satisfied: networkx in /usr/local/lib/python3.10/dist-packages (from torch) (3.3)\n",
            "Requirement already satisfied: jinja2 in /usr/local/lib/python3.10/dist-packages (from torch) (3.1.4)\n",
            "Requirement already satisfied: fsspec in /usr/local/lib/python3.10/dist-packages (from torch) (2024.6.1)\n",
            "Collecting nvidia-cuda-nvrtc-cu12==12.1.105 (from torch)\n",
            "  Downloading nvidia_cuda_nvrtc_cu12-12.1.105-py3-none-manylinux1_x86_64.whl.metadata (1.5 kB)\n",
            "Collecting nvidia-cuda-runtime-cu12==12.1.105 (from torch)\n",
            "  Downloading nvidia_cuda_runtime_cu12-12.1.105-py3-none-manylinux1_x86_64.whl.metadata (1.5 kB)\n",
            "Collecting nvidia-cuda-cupti-cu12==12.1.105 (from torch)\n",
            "  Downloading nvidia_cuda_cupti_cu12-12.1.105-py3-none-manylinux1_x86_64.whl.metadata (1.6 kB)\n",
            "Collecting nvidia-cudnn-cu12==9.1.0.70 (from torch)\n",
            "  Downloading nvidia_cudnn_cu12-9.1.0.70-py3-none-manylinux2014_x86_64.whl.metadata (1.6 kB)\n",
            "Collecting nvidia-cublas-cu12==12.1.3.1 (from torch)\n",
            "  Downloading nvidia_cublas_cu12-12.1.3.1-py3-none-manylinux1_x86_64.whl.metadata (1.5 kB)\n",
            "Collecting nvidia-cufft-cu12==11.0.2.54 (from torch)\n",
            "  Downloading nvidia_cufft_cu12-11.0.2.54-py3-none-manylinux1_x86_64.whl.metadata (1.5 kB)\n",
            "Collecting nvidia-curand-cu12==10.3.2.106 (from torch)\n",
            "  Downloading nvidia_curand_cu12-10.3.2.106-py3-none-manylinux1_x86_64.whl.metadata (1.5 kB)\n",
            "Collecting nvidia-cusolver-cu12==11.4.5.107 (from torch)\n",
            "  Downloading nvidia_cusolver_cu12-11.4.5.107-py3-none-manylinux1_x86_64.whl.metadata (1.6 kB)\n",
            "Collecting nvidia-cusparse-cu12==12.1.0.106 (from torch)\n",
            "  Downloading nvidia_cusparse_cu12-12.1.0.106-py3-none-manylinux1_x86_64.whl.metadata (1.6 kB)\n",
            "Collecting nvidia-nccl-cu12==2.20.5 (from torch)\n",
            "  Downloading nvidia_nccl_cu12-2.20.5-py3-none-manylinux2014_x86_64.whl.metadata (1.8 kB)\n",
            "Collecting nvidia-nvtx-cu12==12.1.105 (from torch)\n",
            "  Downloading nvidia_nvtx_cu12-12.1.105-py3-none-manylinux1_x86_64.whl.metadata (1.7 kB)\n",
            "Collecting triton==3.0.0 (from torch)\n",
            "  Downloading triton-3.0.0-1-cp310-cp310-manylinux2014_x86_64.manylinux_2_17_x86_64.whl.metadata (1.3 kB)\n",
            "Requirement already satisfied: nvidia-nvjitlink-cu12 in /usr/local/lib/python3.10/dist-packages (from nvidia-cusolver-cu12==11.4.5.107->torch) (12.6.68)\n",
            "Requirement already satisfied: MarkupSafe>=2.0 in /usr/local/lib/python3.10/dist-packages (from jinja2->torch) (2.1.5)\n",
            "Requirement already satisfied: mpmath<1.4,>=1.1.0 in /usr/local/lib/python3.10/dist-packages (from sympy->torch) (1.3.0)\n",
            "Downloading torch-2.4.1-cp310-cp310-manylinux1_x86_64.whl (797.1 MB)\n",
            "\u001b[2K   \u001b[90m━━━━━━━━━━━━━━━━━━━━━━━━━━━━━━━━━━━━━━━━\u001b[0m \u001b[32m797.1/797.1 MB\u001b[0m \u001b[31m2.1 MB/s\u001b[0m eta \u001b[36m0:00:00\u001b[0m\n",
            "\u001b[?25hDownloading nvidia_cublas_cu12-12.1.3.1-py3-none-manylinux1_x86_64.whl (410.6 MB)\n",
            "\u001b[2K   \u001b[90m━━━━━━━━━━━━━━━━━━━━━━━━━━━━━━━━━━━━━━━━\u001b[0m \u001b[32m410.6/410.6 MB\u001b[0m \u001b[31m4.5 MB/s\u001b[0m eta \u001b[36m0:00:00\u001b[0m\n",
            "\u001b[?25hDownloading nvidia_cuda_cupti_cu12-12.1.105-py3-none-manylinux1_x86_64.whl (14.1 MB)\n",
            "\u001b[2K   \u001b[90m━━━━━━━━━━━━━━━━━━━━━━━━━━━━━━━━━━━━━━━━\u001b[0m \u001b[32m14.1/14.1 MB\u001b[0m \u001b[31m93.1 MB/s\u001b[0m eta \u001b[36m0:00:00\u001b[0m\n",
            "\u001b[?25hDownloading nvidia_cuda_nvrtc_cu12-12.1.105-py3-none-manylinux1_x86_64.whl (23.7 MB)\n",
            "\u001b[2K   \u001b[90m━━━━━━━━━━━━━━━━━━━━━━━━━━━━━━━━━━━━━━━━\u001b[0m \u001b[32m23.7/23.7 MB\u001b[0m \u001b[31m78.4 MB/s\u001b[0m eta \u001b[36m0:00:00\u001b[0m\n",
            "\u001b[?25hDownloading nvidia_cuda_runtime_cu12-12.1.105-py3-none-manylinux1_x86_64.whl (823 kB)\n",
            "\u001b[2K   \u001b[90m━━━━━━━━━━━━━━━━━━━━━━━━━━━━━━━━━━━━━━━━\u001b[0m \u001b[32m823.6/823.6 kB\u001b[0m \u001b[31m40.9 MB/s\u001b[0m eta \u001b[36m0:00:00\u001b[0m\n",
            "\u001b[?25hDownloading nvidia_cudnn_cu12-9.1.0.70-py3-none-manylinux2014_x86_64.whl (664.8 MB)\n",
            "\u001b[2K   \u001b[90m━━━━━━━━━━━━━━━━━━━━━━━━━━━━━━━━━━━━━━━━\u001b[0m \u001b[32m664.8/664.8 MB\u001b[0m \u001b[31m1.2 MB/s\u001b[0m eta \u001b[36m0:00:00\u001b[0m\n",
            "\u001b[?25hDownloading nvidia_cufft_cu12-11.0.2.54-py3-none-manylinux1_x86_64.whl (121.6 MB)\n",
            "\u001b[2K   \u001b[90m━━━━━━━━━━━━━━━━━━━━━━━━━━━━━━━━━━━━━━━━\u001b[0m \u001b[32m121.6/121.6 MB\u001b[0m \u001b[31m7.9 MB/s\u001b[0m eta \u001b[36m0:00:00\u001b[0m\n",
            "\u001b[?25hDownloading nvidia_curand_cu12-10.3.2.106-py3-none-manylinux1_x86_64.whl (56.5 MB)\n",
            "\u001b[2K   \u001b[90m━━━━━━━━━━━━━━━━━━━━━━━━━━━━━━━━━━━━━━━━\u001b[0m \u001b[32m56.5/56.5 MB\u001b[0m \u001b[31m13.2 MB/s\u001b[0m eta \u001b[36m0:00:00\u001b[0m\n",
            "\u001b[?25hDownloading nvidia_cusolver_cu12-11.4.5.107-py3-none-manylinux1_x86_64.whl (124.2 MB)\n",
            "\u001b[2K   \u001b[90m━━━━━━━━━━━━━━━━━━━━━━━━━━━━━━━━━━━━━━━━\u001b[0m \u001b[32m124.2/124.2 MB\u001b[0m \u001b[31m8.1 MB/s\u001b[0m eta \u001b[36m0:00:00\u001b[0m\n",
            "\u001b[?25hDownloading nvidia_cusparse_cu12-12.1.0.106-py3-none-manylinux1_x86_64.whl (196.0 MB)\n",
            "\u001b[2K   \u001b[90m━━━━━━━━━━━━━━━━━━━━━━━━━━━━━━━━━━━━━━━━\u001b[0m \u001b[32m196.0/196.0 MB\u001b[0m \u001b[31m7.2 MB/s\u001b[0m eta \u001b[36m0:00:00\u001b[0m\n",
            "\u001b[?25hDownloading nvidia_nccl_cu12-2.20.5-py3-none-manylinux2014_x86_64.whl (176.2 MB)\n",
            "\u001b[2K   \u001b[90m━━━━━━━━━━━━━━━━━━━━━━━━━━━━━━━━━━━━━━━━\u001b[0m \u001b[32m176.2/176.2 MB\u001b[0m \u001b[31m7.6 MB/s\u001b[0m eta \u001b[36m0:00:00\u001b[0m\n",
            "\u001b[?25hDownloading nvidia_nvtx_cu12-12.1.105-py3-none-manylinux1_x86_64.whl (99 kB)\n",
            "\u001b[2K   \u001b[90m━━━━━━━━━━━━━━━━━━━━━━━━━━━━━━━━━━━━━━━━\u001b[0m \u001b[32m99.1/99.1 kB\u001b[0m \u001b[31m6.7 MB/s\u001b[0m eta \u001b[36m0:00:00\u001b[0m\n",
            "\u001b[?25hDownloading triton-3.0.0-1-cp310-cp310-manylinux2014_x86_64.manylinux_2_17_x86_64.whl (209.4 MB)\n",
            "\u001b[2K   \u001b[90m━━━━━━━━━━━━━━━━━━━━━━━━━━━━━━━━━━━━━━━━\u001b[0m \u001b[32m209.4/209.4 MB\u001b[0m \u001b[31m3.7 MB/s\u001b[0m eta \u001b[36m0:00:00\u001b[0m\n",
            "\u001b[?25hInstalling collected packages: triton, nvidia-nvtx-cu12, nvidia-nccl-cu12, nvidia-cusparse-cu12, nvidia-curand-cu12, nvidia-cufft-cu12, nvidia-cuda-runtime-cu12, nvidia-cuda-nvrtc-cu12, nvidia-cuda-cupti-cu12, nvidia-cublas-cu12, nvidia-cusolver-cu12, nvidia-cudnn-cu12, torch\n",
            "  Attempting uninstall: nvidia-nccl-cu12\n",
            "    Found existing installation: nvidia-nccl-cu12 2.23.4\n",
            "    Uninstalling nvidia-nccl-cu12-2.23.4:\n",
            "      Successfully uninstalled nvidia-nccl-cu12-2.23.4\n",
            "  Attempting uninstall: nvidia-cusparse-cu12\n",
            "    Found existing installation: nvidia-cusparse-cu12 12.5.3.3\n",
            "    Uninstalling nvidia-cusparse-cu12-12.5.3.3:\n",
            "      Successfully uninstalled nvidia-cusparse-cu12-12.5.3.3\n",
            "  Attempting uninstall: nvidia-cufft-cu12\n",
            "    Found existing installation: nvidia-cufft-cu12 11.2.6.59\n",
            "    Uninstalling nvidia-cufft-cu12-11.2.6.59:\n",
            "      Successfully uninstalled nvidia-cufft-cu12-11.2.6.59\n",
            "  Attempting uninstall: nvidia-cuda-runtime-cu12\n",
            "    Found existing installation: nvidia-cuda-runtime-cu12 12.6.68\n",
            "    Uninstalling nvidia-cuda-runtime-cu12-12.6.68:\n",
            "      Successfully uninstalled nvidia-cuda-runtime-cu12-12.6.68\n",
            "  Attempting uninstall: nvidia-cuda-cupti-cu12\n",
            "    Found existing installation: nvidia-cuda-cupti-cu12 12.6.68\n",
            "    Uninstalling nvidia-cuda-cupti-cu12-12.6.68:\n",
            "      Successfully uninstalled nvidia-cuda-cupti-cu12-12.6.68\n",
            "  Attempting uninstall: nvidia-cublas-cu12\n",
            "    Found existing installation: nvidia-cublas-cu12 12.6.1.4\n",
            "    Uninstalling nvidia-cublas-cu12-12.6.1.4:\n",
            "      Successfully uninstalled nvidia-cublas-cu12-12.6.1.4\n",
            "  Attempting uninstall: nvidia-cusolver-cu12\n",
            "    Found existing installation: nvidia-cusolver-cu12 11.6.4.69\n",
            "    Uninstalling nvidia-cusolver-cu12-11.6.4.69:\n",
            "      Successfully uninstalled nvidia-cusolver-cu12-11.6.4.69\n",
            "  Attempting uninstall: nvidia-cudnn-cu12\n",
            "    Found existing installation: nvidia-cudnn-cu12 9.4.0.58\n",
            "    Uninstalling nvidia-cudnn-cu12-9.4.0.58:\n",
            "      Successfully uninstalled nvidia-cudnn-cu12-9.4.0.58\n",
            "  Attempting uninstall: torch\n",
            "    Found existing installation: torch 1.13.0\n",
            "    Uninstalling torch-1.13.0:\n",
            "      Successfully uninstalled torch-1.13.0\n",
            "\u001b[31mERROR: pip's dependency resolver does not currently take into account all the packages that are installed. This behaviour is the source of the following dependency conflicts.\n",
            "deepod 0.4.1 requires torch<1.13.1,>=1.10.0, but you have torch 2.4.1 which is incompatible.\u001b[0m\u001b[31m\n",
            "\u001b[0mSuccessfully installed nvidia-cublas-cu12-12.1.3.1 nvidia-cuda-cupti-cu12-12.1.105 nvidia-cuda-nvrtc-cu12-12.1.105 nvidia-cuda-runtime-cu12-12.1.105 nvidia-cudnn-cu12-9.1.0.70 nvidia-cufft-cu12-11.0.2.54 nvidia-curand-cu12-10.3.2.106 nvidia-cusolver-cu12-11.4.5.107 nvidia-cusparse-cu12-12.1.0.106 nvidia-nccl-cu12-2.20.5 nvidia-nvtx-cu12-12.1.105 torch-2.4.1 triton-3.0.0\n"
          ]
        },
        {
          "output_type": "display_data",
          "data": {
            "application/vnd.colab-display-data+json": {
              "pip_warning": {
                "packages": [
                  "torch"
                ]
              },
              "id": "2931372a724141d8be20e40a1d3896d6"
            }
          },
          "metadata": {}
        }
      ]
    },
    {
      "cell_type": "code",
      "execution_count": null,
      "metadata": {
        "colab": {
          "base_uri": "https://localhost:8080/",
          "height": 445
        },
        "id": "ZqlNpYb9ajru",
        "outputId": "7a68e598-cd43-4b2c-9af9-357f2c55702b"
      },
      "outputs": [
        {
          "data": {
            "image/png": "[encoded data removed]",
            "text/plain": [
              "<Figure size 640x480 with 2 Axes>"
            ]
          },
          "metadata": {},
          "output_type": "display_data"
        }
      ],
      "source": [
        "#PreProcessing\n",
        "'''\n",
        "Input:Signal\n",
        "Output: Transformed / Augmented data\n",
        "'''\n",
        "class ProcessSignal:\n",
        "  def __init__(self)->None:\n",
        "    pass\n",
        "\n",
        "  def prefilter(self,x:np.ndarray,fs:float, cutoff:float)->None:\n",
        "\n",
        "    # Take absolute value\n",
        "    x_abs = np.abs(x)\n",
        "\n",
        "    # Design low-pass filter\n",
        "    normal_cutoff = cutoff / (0.5*fs)\n",
        "    b, a = scipy.signal.butter(2, normal_cutoff, btype='low', analog=False)\n",
        "\n",
        "    # Apply filter\n",
        "    envelope = scipy.signal.filtfilt(b, a, x_abs)\n",
        "\n",
        "    #\n",
        "    return envelope\n",
        "\n",
        "  def detectEnvelope(self,x:np.ndarray,N:int,method = 'analytic', window=\"hamming\",prefilter_req=False):\n",
        "    if prefilter_req:\n",
        "      x=self.prefilter(x,fs,1)\n",
        "    x=np.abs(x)\n",
        "    #Assert that x is a 1D numpy array\n",
        "    kernel_mapper={\"rect\":np.ones(N)/N,\"hamming\":np.hamming(N),\"hanning\":np.hanning(N),\"blackman\":np.blackman(N),\n",
        "                  \"gaussian\":scipy.signal.windows.gaussian(N,1),\"tukey\":scipy.signal.windows.tukey(N,1)}\n",
        "    if method == 'analytic':\n",
        "\n",
        "      #Calculate the mean of x and remove it\n",
        "      x_mean = np.mean(x)\n",
        "      x_zero_mean = x-x_mean\n",
        "\n",
        "      #Take the absolute value of the Hilbert transform\n",
        "      #to calculate the analytical envelope of the zero mean\n",
        "      #version of x\n",
        "      zero_mean_envelope = np.abs(hilbert(x_zero_mean,N = N))\n",
        "\n",
        "      #Calculate and return upper and lower envelopes\n",
        "      return x_mean+zero_mean_envelope,x_mean-zero_mean_envelope\n",
        "\n",
        "    elif method == 'rms':\n",
        "\n",
        "      #Assert that N is specified and is an integer\n",
        "      #For the rms method N serves as window size\n",
        "      #for the moving average\n",
        "      assert N and isinstance(N,int), 'N must be an integer'\n",
        "\n",
        "      #Calculate the mean of x and remove it\n",
        "      x_mean = np.mean(x)\n",
        "      x_zero_mean = x-x_mean\n",
        "      #Moving average is calculated using np.convolve\n",
        "\n",
        "\n",
        "      #Calculate the RMS envelope of the zero mean version of x.\n",
        "      kernel=kernel_mapper[window]\n",
        "      #Moving average is calculated using np.convolve\n",
        "      zero_mean_envelope = np.sqrt(np.convolve(x_zero_mean**2,kernel,mode = 'same'))\n",
        "\n",
        "      #Calculate and return upper and lower envelopes\n",
        "      return x_mean+zero_mean_envelope,x_mean-zero_mean_envelope\n",
        "\n",
        "    elif method == 'peak':\n",
        "\n",
        "      #Assert that N is specified and is an integer\n",
        "      #For the peak method N serves as the minimum number of\n",
        "      #samples that seperate local maxima\n",
        "      assert N and isinstance(N,int), 'N must be an integer'\n",
        "\n",
        "      #Calculate local maxima and minima which will serve\n",
        "      #as peaks for upper and lower envelopes respectively\n",
        "      peaks_upper,_ = find_peaks(x,distance = N)\n",
        "      peaks_lower,_ = find_peaks(-x,distance = N)\n",
        "\n",
        "      #Calculate upper and lower envelopes by interpolating\n",
        "      #peaks using a Univariate spline\n",
        "      upper_spline = UnivariateSpline(peaks_upper,x[peaks_upper])\n",
        "      lower_spline = UnivariateSpline(peaks_lower,x[peaks_lower])\n",
        "      upper_envelope = upper_spline(np.arange(x.shape[0]))\n",
        "      lower_envelope = lower_spline(np.arange(x.shape[0]))\n",
        "\n",
        "      #Return the envelopes\n",
        "      return upper_envelope,lower_envelope\n",
        "\n",
        "    else:\n",
        "\n",
        "      raise ValueError('%s is not a valid method' %(method))\n",
        "\n",
        "  def compareSignals(self,original:np.ndarray,signal:np.ndarray,fs:float,arrival_time:float,block:Optional[bool]=True)->None:\n",
        "\n",
        "    plt.close()\n",
        "    plt.subplot(2,1,1)\n",
        "    plt.plot(original)\n",
        "    plt.subplot(2,1,2)\n",
        "    plt.plot(signal)\n",
        "    plt.axvline(x=(arrival_time*fs),color=\"red\")\n",
        "    plt.show()\n",
        "  '''\n",
        "  Test block\n",
        "  '''\n",
        "#36\n",
        "#51\n",
        "#16\n",
        "#21\n",
        "#24\n",
        "#39\n",
        "#46\n",
        "\n",
        "idx=10\n",
        "x_input,x_label,fs=train_data[idx],train_labels[idx],sampling_rate[idx]\n",
        "p=ProcessSignal()\n",
        "envelope=p.detectEnvelope(x_input,int(fs*512),'rms',\"hamming\",True)\n",
        "p.compareSignals(x_input,envelope[0],fs,x_label)\n"
      ]
    },
    {
      "cell_type": "code",
      "execution_count": null,
      "metadata": {
        "id": "xpSD59g_HZh4"
      },
      "outputs": [],
      "source": [
        "def convert_to_batches_of_data(data,batches):\n",
        "\n",
        "  nsamples,ntimestamps=data.shape\n",
        "  data=data[:,:int(ntimestamps/batches)*batches]\n",
        "\n",
        "  data=data.reshape(nsamples,int(ntimestamps/batches),batches)\n",
        "  data=data.reshape(nsamples*int(ntimestamps/batches),-1)\n",
        "\n",
        "  return data\n",
        "x_input=convert_to_batches_of_data(x_train,100)\n",
        "y_input=convert_to_batches_of_data(y_train,100)"
      ]
    },
    {
      "cell_type": "code",
      "execution_count": null,
      "metadata": {
        "id": "P5jWtVFRbcJZ",
        "outputId": "401cf409-d3f8-48d6-9fe3-f3bdba80e7db"
      },
      "outputs": [
        {
          "name": "stderr",
          "output_type": "stream",
          "text": [
            "2024-10-06 07:47:49.822937: E external/local_xla/xla/stream_executor/cuda/cuda_dnn.cc:9373] Unable to register cuDNN factory: Attempting to register factory for plugin cuDNN when one has already been registered\n",
            "2024-10-06 07:47:49.822998: E external/local_xla/xla/stream_executor/cuda/cuda_fft.cc:607] Unable to register cuFFT factory: Attempting to register factory for plugin cuFFT when one has already been registered\n",
            "2024-10-06 07:47:49.824261: E external/local_xla/xla/stream_executor/cuda/cuda_blas.cc:1534] Unable to register cuBLAS factory: Attempting to register factory for plugin cuBLAS when one has already been registered\n",
            "2024-10-06 07:47:49.830030: I tensorflow/core/platform/cpu_feature_guard.cc:183] This TensorFlow binary is optimized to use available CPU instructions in performance-critical operations.\n",
            "To enable the following instructions: SSE3 SSE4.1 SSE4.2 AVX, in other operations, rebuild TensorFlow with the appropriate compiler flags.\n"
          ]
        }
      ],
      "source": [
        "# SeismicModel and dependencies\n",
        "\n",
        "import tensorflow as tf\n",
        "tf.compat.v1.disable_eager_execution()\n",
        "from tensorflow.keras.models import Model, load_model\n",
        "from tensorflow.keras.layers import Lambda, Input, Dense\n",
        "from tensorflow.keras.losses import mse, binary_crossentropy, KLDivergence\n",
        "from tensorflow.keras import optimizers\n",
        "from tensorflow.keras import backend as K\n",
        "\n",
        "from SeismicModel import SeismicModel"
      ]
    },
    {
      "cell_type": "code",
      "execution_count": null,
      "metadata": {
        "id": "FvBwQN-ha6NZ",
        "outputId": "da43b285-0523-4e69-b154-08e6a1e45b8e"
      },
      "outputs": [
        {
          "name": "stdout",
          "output_type": "stream",
          "text": [
            "(100, 429300)\n",
            "(100, 429300)\n"
          ]
        }
      ],
      "source": [
        "# Model Definition\n",
        "'''\n",
        "Define model architectures\n",
        "Input: tensor signal\n",
        "Output: binary signal\n",
        "'''\n",
        "x = np.swapaxes(x_input, 1, 0)\n",
        "print(x.shape)\n",
        "y = np.swapaxes(y_input, 1, 0)\n",
        "print(y.shape)\n"
      ]
    },
    {
      "cell_type": "code",
      "execution_count": null,
      "metadata": {
        "id": "2Gz-rI-ZbcJa",
        "outputId": "07de341f-2fee-438e-9010-d55b22622a61"
      },
      "outputs": [
        {
          "name": "stdout",
          "output_type": "stream",
          "text": [
            "Model: \"encoder\"\n",
            "__________________________________________________________________________________________________\n",
            " Layer (type)                Output Shape                 Param #   Connected to                  \n",
            "==================================================================================================\n",
            " encoder_input (InputLayer)  [(None, 429300)]             0         []                            \n",
            "                                                                                                  \n",
            " dense (Dense)               (None, 64)                   2747526   ['encoder_input[0][0]']       \n",
            "                                                          4                                       \n",
            "                                                                                                  \n",
            " dense_1 (Dense)             (None, 32)                   2080      ['dense[0][0]']               \n",
            "                                                                                                  \n",
            " z_mean (Dense)              (None, 16)                   528       ['dense_1[0][0]']             \n",
            "                                                                                                  \n",
            " z_log_var (Dense)           (None, 16)                   528       ['dense_1[0][0]']             \n",
            "                                                                                                  \n",
            " z (Lambda)                  (None, 16)                   0         ['z_mean[0][0]',              \n",
            "                                                                     'z_log_var[0][0]']           \n",
            "                                                                                                  \n",
            "==================================================================================================\n",
            "Total params: 27478400 (104.82 MB)\n",
            "Trainable params: 27478400 (104.82 MB)\n",
            "Non-trainable params: 0 (0.00 Byte)\n",
            "__________________________________________________________________________________________________\n",
            "Model: \"decoder\"\n",
            "_________________________________________________________________\n",
            " Layer (type)                Output Shape              Param #   \n",
            "=================================================================\n",
            " z_sampling (InputLayer)     [(None, 16)]              0         \n",
            "                                                                 \n",
            " dense_2 (Dense)             (None, 32)                544       \n",
            "                                                                 \n",
            " dense_3 (Dense)             (None, 64)                2112      \n",
            "                                                                 \n",
            " dense_4 (Dense)             (None, 429300)            27904500  \n",
            "                                                                 \n",
            "=================================================================\n",
            "Total params: 27907156 (106.46 MB)\n",
            "Trainable params: 27907156 (106.46 MB)\n",
            "Non-trainable params: 0 (0.00 Byte)\n",
            "_________________________________________________________________\n"
          ]
        }
      ],
      "source": [
        "#x = np.zeros((N,min_len))\n",
        "#for idx in range(len(train_data[:])):\n",
        "#    x[idx] = train_data[idx][:min_len]\n",
        "#print(x.shape)\n",
        "\n",
        "seismic_model = SeismicModel(name=\"vae-mlp\")\n",
        "seismic_model.SetTrain(x, y)\n",
        "seismic_model.BuildModel()"
      ]
    },
    {
      "cell_type": "code",
      "execution_count": null,
      "metadata": {
        "id": "7KYygjbNbcJa",
        "outputId": "d7eb35db-3275-4219-ca15-3ffad2813cd8"
      },
      "outputs": [
        {
          "name": "stdout",
          "output_type": "stream",
          "text": [
            "Model: \"vae-mlp\"\n",
            "_________________________________________________________________\n",
            " Layer (type)                Output Shape              Param #   \n",
            "=================================================================\n",
            " encoder_input (InputLayer)  [(None, 429300)]          0         \n",
            "                                                                 \n",
            " encoder (Functional)        (None, 16)                27478400  \n",
            "                                                                 \n",
            " decoder (Functional)        (None, 429300)            27907156  \n",
            "                                                                 \n",
            "=================================================================\n",
            "Total params: 55385556 (211.28 MB)\n",
            "Trainable params: 55385556 (211.28 MB)\n",
            "Non-trainable params: 0 (0.00 Byte)\n",
            "_________________________________________________________________\n"
          ]
        },
        {
          "name": "stderr",
          "output_type": "stream",
          "text": [
            "2024-10-06 07:47:55.949887: E external/local_xla/xla/stream_executor/cuda/cuda_driver.cc:274] failed call to cuInit: CUDA_ERROR_NO_DEVICE: no CUDA-capable device is detected\n",
            "2024-10-06 07:47:55.949916: I external/local_xla/xla/stream_executor/cuda/cuda_diagnostics.cc:129] retrieving CUDA diagnostic information for host: nvgpu\n",
            "2024-10-06 07:47:55.949924: I external/local_xla/xla/stream_executor/cuda/cuda_diagnostics.cc:136] hostname: nvgpu\n",
            "2024-10-06 07:47:55.950027: I external/local_xla/xla/stream_executor/cuda/cuda_diagnostics.cc:159] libcuda reported version is: 550.90.7\n",
            "2024-10-06 07:47:55.950046: I external/local_xla/xla/stream_executor/cuda/cuda_diagnostics.cc:163] kernel reported version is: 550.90.7\n",
            "2024-10-06 07:47:55.950053: I external/local_xla/xla/stream_executor/cuda/cuda_diagnostics.cc:241] kernel version seems to match DSO: 550.90.7\n",
            "2024-10-06 07:47:56.900103: I tensorflow/compiler/mlir/mlir_graph_optimization_pass.cc:388] MLIR V1 optimization pass is not enabled\n",
            "2024-10-06 07:47:57.666994: W tensorflow/c/c_api.cc:305] Operation '{name:'dense_4/kernel/Assign' id:185 op device:{requested: '', assigned: ''} def:{{{node dense_4/kernel/Assign}} = AssignVariableOp[_has_manual_control_dependencies=true, dtype=DT_FLOAT, validate_shape=false](dense_4/kernel, dense_4/kernel/Initializer/stateless_random_uniform)}}' was changed by setting attribute after it was run by a session. This mutation will have no effect, and will trigger an error in the future. Either don't modify nodes after running them or create a new session.\n",
            "2024-10-06 07:48:46.360861: W tensorflow/core/common_runtime/type_inference.cc:339] Type inference failed. This indicates an invalid graph that escaped type checking. Error message: INVALID_ARGUMENT: type mismatch for node 'DatasetToGraphV2': expected a subtype of:\n",
            "type_id: TFT_PRODUCT\n",
            "args {\n",
            "  type_id: TFT_ENCODED\n",
            "  args {\n",
            "    type_id: TFT_DATASET\n",
            "    args {\n",
            "      type_id: TFT_PRODUCT\n",
            "      args {\n",
            "        type_id: TFT_TENSOR\n",
            "        args {\n",
            "          type_id: TFT_DOUBLE\n",
            "        }\n",
            "      }\n",
            "      args {\n",
            "        type_id: TFT_TENSOR\n",
            "        args {\n",
            "          type_id: TFT_DOUBLE\n",
            "        }\n",
            "      }\n",
            "    }\n",
            "  }\n",
            "  args {\n",
            "    type_id: TFT_STRING\n",
            "  }\n",
            "}\n",
            "\n",
            "  got:\n",
            "type_id: TFT_PRODUCT\n",
            "args {\n",
            "  type_id: TFT_ENCODED\n",
            "  args {\n",
            "    type_id: TFT_DATASET\n",
            "    args {\n",
            "      type_id: TFT_PRODUCT\n",
            "      args {\n",
            "        type_id: TFT_TENSOR\n",
            "        args {\n",
            "          type_id: TFT_DOUBLE\n",
            "        }\n",
            "      }\n",
            "      args {\n",
            "        type_id: TFT_TENSOR\n",
            "        args {\n",
            "          type_id: TFT_DOUBLE\n",
            "        }\n",
            "      }\n",
            "    }\n",
            "  }\n",
            "  args {\n",
            "    type_id: TFT_STRING\n",
            "  }\n",
            "}\n",
            "\n",
            "  \n",
            "\twhile updating its output type.\n"
          ]
        },
        {
          "name": "stdout",
          "output_type": "stream",
          "text": [
            "Train on 13 steps\n",
            "Epoch 1/10\n"
          ]
        },
        {
          "name": "stderr",
          "output_type": "stream",
          "text": [
            "2024-10-06 07:49:08.074276: W tensorflow/c/c_api.cc:305] Operation '{name:'loss/mul' id:294 op device:{requested: '', assigned: ''} def:{{{node loss/mul}} = Mul[T=DT_FLOAT, _has_manual_control_dependencies=true](loss/mul/x, loss/decoder_loss/value)}}' was changed by setting attribute after it was run by a session. This mutation will have no effect, and will trigger an error in the future. Either don't modify nodes after running them or create a new session.\n",
            "2024-10-06 07:49:09.468365: W tensorflow/c/c_api.cc:305] Operation '{name:'training/Adam/z_log_var/bias/v/Assign' id:646 op device:{requested: '', assigned: ''} def:{{{node training/Adam/z_log_var/bias/v/Assign}} = AssignVariableOp[_has_manual_control_dependencies=true, dtype=DT_FLOAT, validate_shape=false](training/Adam/z_log_var/bias/v, training/Adam/z_log_var/bias/v/Initializer/zeros)}}' was changed by setting attribute after it was run by a session. This mutation will have no effect, and will trigger an error in the future. Either don't modify nodes after running them or create a new session.\n"
          ]
        },
        {
          "name": "stdout",
          "output_type": "stream",
          "text": [
            "13/13 [==============================] - 7s 186ms/step - batch: 6.0000 - size: 1.0000 - loss: 676127.9567\n",
            "Epoch 2/10\n",
            "13/13 [==============================] - 2s 187ms/step - batch: 6.0000 - size: 1.0000 - loss: 389768.5865\n",
            "Epoch 3/10\n",
            "13/13 [==============================] - 2s 188ms/step - batch: 6.0000 - size: 1.0000 - loss: 199899.0517\n",
            "Epoch 4/10\n",
            "13/13 [==============================] - 2s 188ms/step - batch: 6.0000 - size: 1.0000 - loss: 97434.0772\n",
            "Epoch 5/10\n",
            "13/13 [==============================] - 2s 188ms/step - batch: 6.0000 - size: 1.0000 - loss: 52263.6588\n",
            "Epoch 6/10\n",
            "13/13 [==============================] - 2s 187ms/step - batch: 6.0000 - size: 1.0000 - loss: 29291.8253\n",
            "Epoch 7/10\n",
            "13/13 [==============================] - 2s 188ms/step - batch: 6.0000 - size: 1.0000 - loss: 15860.1022\n",
            "Epoch 8/10\n",
            "13/13 [==============================] - 2s 189ms/step - batch: 6.0000 - size: 1.0000 - loss: 9871.3320\n",
            "Epoch 9/10\n",
            "13/13 [==============================] - 2s 189ms/step - batch: 6.0000 - size: 1.0000 - loss: 6920.9087\n",
            "Epoch 10/10\n",
            "13/13 [==============================] - 2s 190ms/step - batch: 6.0000 - size: 1.0000 - loss: 5194.7130\n"
          ]
        }
      ],
      "source": [
        "# Model Training\n",
        "'''\n",
        "Compile the model (Define optimizers, hyperparams, etc.)\n",
        "Start/end Training\n",
        "Store model checkpoints\n",
        "Plot training and validation loss\n",
        "'''\n",
        "\n",
        "seismic_model.Compile(lr=3e-5)\n",
        "history = seismic_model.Train()"
      ]
    },
    {
      "cell_type": "code",
      "execution_count": null,
      "metadata": {
        "id": "MxdX4wtNbcJa",
        "outputId": "f6b2d54c-8603-4b17-86c0-9d470e36f6de"
      },
      "outputs": [
        {
          "data": {
            "image/png": "[encoded data removed]",
            "text/plain": [
              "<Figure size 640x480 with 1 Axes>"
            ]
          },
          "metadata": {},
          "output_type": "display_data"
        }
      ],
      "source": [
        "plt.plot(history.history['loss'])\n",
        "#plt.plot(history.history['loss'])\n",
        "plt.title('Training Performance')\n",
        "plt.ylabel('loss')\n",
        "plt.xlabel('epoch')\n",
        "#plt.legend(['train', 'val'], loc='upper left')\n",
        "plt.legend(['train'], loc='upper left')\n",
        "plt.show()"
      ]
    },
    {
      "cell_type": "code",
      "execution_count": null,
      "metadata": {
        "id": "T1Af5JL0bcJb",
        "outputId": "0e9891d0-a1fc-40e0-bf3f-ab7752ebf334"
      },
      "outputs": [
        {
          "name": "stderr",
          "output_type": "stream",
          "text": [
            "/usr/local/lib/python3.10/dist-packages/keras/src/engine/training_v1.py:2359: UserWarning: `Model.state_updates` will be removed in a future version. This property should not be used in TensorFlow 2.0, as `updates` are applied automatically.\n",
            "  updates=self.state_updates,\n",
            "2024-10-06 07:53:17.767125: W tensorflow/c/c_api.cc:305] Operation '{name:'decoder/dense_4/Sigmoid' id:248 op device:{requested: '', assigned: ''} def:{{{node decoder/dense_4/Sigmoid}} = Sigmoid[T=DT_FLOAT, _has_manual_control_dependencies=true](decoder/dense_4/BiasAdd)}}' was changed by setting attribute after it was run by a session. This mutation will have no effect, and will trigger an error in the future. Either don't modify nodes after running them or create a new session.\n"
          ]
        }
      ],
      "source": [
        "#Evaluation on validation set\n",
        "seismic_model.SetTest(x, y)\n",
        "y_hat = seismic_model.Predict()"
      ]
    },
    {
      "cell_type": "code",
      "execution_count": null,
      "metadata": {
        "id": "zt9caF_7bcJb",
        "outputId": "e15aad22-a6c5-4c6b-91e9-4446d1cb2beb"
      },
      "outputs": [
        {
          "name": "stdout",
          "output_type": "stream",
          "text": [
            "86595\n",
            "108\n",
            "[0. 0. 0. 0. 0. 0. 0. 0. 1. 0. 0. 0.]\n"
          ]
        }
      ],
      "source": [
        "y_loss = y - y_hat\n",
        "print(np.argmax(y_loss[0]))\n",
        "print(np.argmax(y[0]))\n",
        "print(y[0][100:112])"
      ]
    },
    {
      "cell_type": "code",
      "execution_count": null,
      "metadata": {
        "id": "LI8BnYDwbLpm"
      },
      "outputs": [],
      "source": [
        "#Prediction\n",
        "'''\n",
        "Input: Model, test data\n",
        "Output: pd.Dataframe or similar table with evaluation results\n",
        "'''\n",
        "#x_input=convert_to_batches_of_data(x_train,100)\n",
        "seismic_model.SetTest(x_test[:,:429300])\n",
        "y_hat = seismic_model.Predict()\n",
        "# use argmax to find the timestamp with the value closest to 1\n",
        "y_pred = np.argmax(y_hat, axis=1)\n",
        "# construct a dataframe\n",
        "df = dataTester.loadPredictions(y_pred)\n",
        "# save as a csv file\n",
        "df.to_csv('seismic-detections-'+seismic_model.name+'.csv')"
      ]
    },
    {
      "cell_type": "code",
      "execution_count": null,
      "metadata": {
        "id": "dq4G5UYGblYl"
      },
      "outputs": [],
      "source": [
        "#Demo app\n",
        "'''\n",
        "Input: Model, sample input signal\n",
        "'''"
      ]
    }
  ],
  "metadata": {
    "accelerator": "GPU",
    "colab": {
      "gpuType": "T4",
      "provenance": []
    },
    "kernelspec": {
      "display_name": "Python 3 (ipykernel)",
      "language": "python",
      "name": "python3"
    },
    "language_info": {
      "codemirror_mode": {
        "name": "ipython",
        "version": 3
      },
      "file_extension": ".py",
      "mimetype": "text/x-python",
      "name": "python",
      "nbconvert_exporter": "python",
      "pygments_lexer": "ipython3",
      "version": "3.10.12"
    }
  },
  "nbformat": 4,
  "nbformat_minor": 0
}