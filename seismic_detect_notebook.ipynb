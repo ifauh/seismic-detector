{
  "nbformat": 4,
  "nbformat_minor": 0,
  "metadata": {
    "colab": {
      "provenance": [],
      "gpuType": "T4"
    },
    "kernelspec": {
      "name": "python3",
      "display_name": "Python 3"
    },
    "language_info": {
      "name": "python"
    },
    "accelerator": "GPU"
  },
  "cells": [
    {
      "cell_type": "code",
      "source": [
        "!wget http://dtn-max.ifa.hawaii.edu/SpaceApps/2024/spaceappschallenge_seismicdetection_data.zip"
      ],
      "metadata": {
        "colab": {
          "base_uri": "https://localhost:8080/"
        },
        "id": "3nH4oYs_lMAK",
        "outputId": "87f71864-bfb1-428b-d506-4a7be0737f7a"
      },
      "execution_count": 1,
      "outputs": [
        {
          "output_type": "stream",
          "name": "stdout",
          "text": [
            "--2024-10-06 04:49:05--  http://dtn-max.ifa.hawaii.edu/SpaceApps/2024/spaceappschallenge_seismicdetection_data.zip\n",
            "Resolving dtn-max.ifa.hawaii.edu (dtn-max.ifa.hawaii.edu)... 206.196.177.123\n",
            "Connecting to dtn-max.ifa.hawaii.edu (dtn-max.ifa.hawaii.edu)|206.196.177.123|:80... connected.\n",
            "HTTP request sent, awaiting response... 200 OK\n",
            "Length: 756718846 (722M) [application/zip]\n",
            "Saving to: ‘spaceappschallenge_seismicdetection_data.zip.1’\n",
            "\n",
            "spaceappschallenge_ 100%[===================>] 721.66M  75.6MB/s    in 12s     \n",
            "\n",
            "2024-10-06 04:49:19 (58.9 MB/s) - ‘spaceappschallenge_seismicdetection_data.zip.1’ saved [756718846/756718846]\n",
            "\n"
          ]
        }
      ]
    },
    {
      "cell_type": "code",
      "source": [
        "!unzip spaceappschallenge_seismicdetection_data.zip"
      ],
      "metadata": {
        "id": "oB3RlppulbKj"
      },
      "execution_count": null,
      "outputs": []
    },
    {
      "cell_type": "code",
      "source": [
        "%cd /content\n",
        "!ls"
      ],
      "metadata": {
        "id": "-Yd6Mmg8lxu0"
      },
      "execution_count": null,
      "outputs": []
    },
    {
      "cell_type": "code",
      "source": [
        "#Install prerequisite packages\n",
        "%pip install obspy\n"
      ],
      "metadata": {
        "id": "zIee_wEmZkMV"
      },
      "execution_count": null,
      "outputs": []
    },
    {
      "cell_type": "code",
      "execution_count": 1,
      "metadata": {
        "id": "h-qZZR1UWXpR"
      },
      "outputs": [],
      "source": [
        "#Import modules\n",
        "import numpy as np\n",
        "import pandas as pd\n",
        "import scipy\n",
        "from scipy.signal import hilbert,find_peaks\n",
        "from scipy.interpolate import UnivariateSpline\n",
        "import obspy\n",
        "from obspy import read\n",
        "from datetime import datetime, timedelta\n",
        "import matplotlib.pyplot as plt\n",
        "import os\n",
        "import typing\n",
        "from typing import *\n",
        "%matplotlib inline"
      ]
    },
    {
      "cell_type": "code",
      "source": [
        "#GLOBAL VARIABLES\n",
        "DATASET_ROOT_PATH=\"data\""
      ],
      "metadata": {
        "id": "DAAm_IPjeHnP"
      },
      "execution_count": 2,
      "outputs": []
    },
    {
      "cell_type": "code",
      "source": [
        "#Dataset\n",
        "'''\n",
        "class to assimilate data ,\n",
        "Input: paths to dataset\n",
        "Output: Multi-dim matrix,  np.ndarray or torch.tensor\n",
        "'''\n",
        "class SeismicDataset:\n",
        "\n",
        "  def __init__(self,dataset_root:str)->None:\n",
        "    self.dataset_root=dataset_root\n",
        "    self.list_of_planets=[\"lunar\",\"mars\"]\n",
        "    self.modes=[\"train\",\"test\"]\n",
        "\n",
        "  def loadDataset(self,pad_seq=False,ohe=False,n_classes:Optional[int]=1)->np.ndarray:\n",
        "      '''\n",
        "      dataset of shape (Number of samples, timestamps)\n",
        "      '''\n",
        "      signal_stack=[]\n",
        "      labels=[]\n",
        "      sampling_rate=[]\n",
        "\n",
        "      for i,row in self.dataset.iterrows():\n",
        "        filename=row[\"filename\"]\n",
        "        time_rel=row[\"time_rel(sec)\"]\n",
        "        signal = obspy.read(filename + \".mseed\")\n",
        "        signal_stack.append(signal[0].data)\n",
        "        labels.append(time_rel)\n",
        "        sampling_rate.append(signal[0].stats.sampling_rate)\n",
        "      if pad_seq:\n",
        "        signal_stack=self.padSequences(signal_stack)\n",
        "      if ohe:\n",
        "        labels=self.one_hot_encode(labels,n_classes)\n",
        "      return signal_stack, labels, sampling_rate\n",
        "\n",
        "  def one_hot_encode(self,array:np.ndarray, num_classes:int):\n",
        "    # Create a zero array of shape (array_len, num_classes)\n",
        "    n_samples=len(array)\n",
        "    sample_hist={}\n",
        "    for sample in train_data:\n",
        "      maxlen=max(sample.shape)\n",
        "      if maxlen not in sample_hist.keys():\n",
        "        sample_hist[maxlen]=1\n",
        "      else:\n",
        "        sample_hist[maxlen]+=1\n",
        "\n",
        "    maxlen=max(sample_hist.keys())\n",
        "\n",
        "    one_hot = np.zeros((n_samples,maxlen))\n",
        "\n",
        "    # Use NumPy's advanced indexing to place 1s\n",
        "    one_hot[:,np.array(array,dtype=np.uint32)] = 1\n",
        "    return one_hot\n",
        "\n",
        "  def padSequences(self,train_data):\n",
        "\n",
        "    sample_hist={}\n",
        "    for sample in train_data:\n",
        "      maxlen=max(sample.shape)\n",
        "      if maxlen not in sample_hist.keys():\n",
        "        sample_hist[maxlen]=1\n",
        "      else:\n",
        "        sample_hist[maxlen]+=1\n",
        "\n",
        "    maxlen=max(sample_hist.keys())\n",
        "    x_train=np.zeros((len(train_data),maxlen))\n",
        "    for i,xsample in enumerate(train_data):\n",
        "      clen=len(xsample)\n",
        "      x_train[i,:clen]=xsample[:clen]\n",
        "    return x_train\n",
        "\n",
        "  def generatePathToLogs(self)->None:\n",
        "    '''\n",
        "    returns a DataFrame with columns: filename,logname,time_rel(label)\n",
        "    '''\n",
        "    # Extract Catalog for time_rel aka label data\n",
        "    database_roots={\"catalog\":\n",
        "                    {\"lunar\":\n",
        "                    {\"train\":\"lunar/catalog\"},\n",
        "                    \"mars\":\n",
        "                    {\"train\":\"mars/catalog\"}\n",
        "                    }\n",
        "                  }\n",
        "    list_of_csvs_path=[]\n",
        "    for planet_data in database_roots.values():\n",
        "      for planet,data_cap in planet_data.items():\n",
        "        for data_category,path in data_cap.items():\n",
        "          path1=os.path.join(self.dataset_root,path)\n",
        "          list_dirs=os.listdir(path1)\n",
        "          for csvpath in list_dirs:\n",
        "              path2=os.path.join(path1,csvpath)\n",
        "              assert os.path.isfile(path2), \"Path not found\"\n",
        "              list_of_csvs_path.append(path2)\n",
        "\n",
        "    catalog=[]\n",
        "\n",
        "    for csv_path in list_of_csvs_path:\n",
        "      df=pd.read_csv(csv_path)\n",
        "      df[\"logname\"]=df[\"filename\"].apply(lambda name: name.strip(\".csv\").strip(\".mseed\"))\n",
        "\n",
        "      df.name=\"_\".join(csv_path.split(\"/\")[1:3])\n",
        "      catalog.append(df)\n",
        "    lunar_catalog=catalog[0]\n",
        "    mars_catalog=pd.merge(catalog[1],catalog[2])\n",
        "    #Extract signal data\n",
        "\n",
        "    database_roots={\"data\":\n",
        "                  {\"lunar\":\n",
        "                  {\"train\":\"lunar/train\",\n",
        "                  \"test\":\"lunar/test\"},\n",
        "                  \"mars\":\n",
        "                  {\"train\":\"mars/train\",\n",
        "                  \"test\":\"mars/test\"}\n",
        "                  }\n",
        "                }\n",
        "    list_of_csvs=[]\n",
        "\n",
        "    for planet_data in database_roots.values():\n",
        "        for planet,data_cap in planet_data.items():\n",
        "            for data_category,path in data_cap.items():\n",
        "                path1=os.path.join(self.dataset_root,path)\n",
        "                scandir=os.scandir(path1)\n",
        "                respaths=[]\n",
        "                lognames=[]\n",
        "                for sample in scandir:\n",
        "\n",
        "                  res_path=os.path.join(path1,sample.name.strip(\".csv\").strip(\".mseed\"))\n",
        "                  log_name=sample.name.strip(\".csv\").strip(\".mseed\")\n",
        "                  respaths.append(res_path)\n",
        "                  lognames.append(log_name)\n",
        "\n",
        "                df=pd.DataFrame({\"filename\":respaths,\"logname\":lognames})\n",
        "                df.attrs[\"metadata\"]={\"name\":planet,\"type\":data_category}\n",
        "                list_of_csvs.append(df)\n",
        "                del df\n",
        "\n",
        "    lunar_train_signals_table=list_of_csvs[0]\n",
        "    lunar_test_signals_table=list_of_csvs[1]\n",
        "    mars_train_signals_table=list_of_csvs[2]\n",
        "    mars_test_signals_table=list_of_csvs[3]\n",
        "    # Perform an inner join with logname to get a dataframe\n",
        "    lunar_training_data=pd.merge(lunar_train_signals_table,lunar_catalog, on='logname')\n",
        "    lunar_training_data=lunar_training_data.drop(columns=[\"filename_y\"])\n",
        "    lunar_training_data=lunar_training_data.rename(columns={\"filename_x\":\"filename\"})\n",
        "\n",
        "    self.dataset=lunar_training_data\n",
        "\n",
        "\n",
        "'''\n",
        "Test block\n",
        "'''\n",
        "dataTester=SeismicDataset(DATASET_ROOT_PATH)\n",
        "dataTester.generatePathToLogs()\n",
        "train_data,train_labels,sampling_rate=dataTester.loadDataset()\n",
        "x_train,x_label,_=dataTester.loadDataset(pad_seq=True,ohe=True,n_classes=1)"
      ],
      "metadata": {
        "id": "s8HsbRa8YU3K"
      },
      "execution_count": 3,
      "outputs": []
    },
    {
      "cell_type": "code",
      "source": [
        "#PreProcessing\n",
        "'''\n",
        "Input:Signal\n",
        "Output: Transformed / Augmented data\n",
        "'''\n",
        "class ProcessSignal:\n",
        "  def __init__(self)->None:\n",
        "    pass\n",
        "\n",
        "  def prefilter(self,x:np.ndarray,fs:float, cutoff:float)->None:\n",
        "\n",
        "    # Take absolute value\n",
        "    x_abs = np.abs(x)\n",
        "\n",
        "    # Design low-pass filter\n",
        "    normal_cutoff = cutoff / (0.5*fs)\n",
        "    b, a = scipy.signal.butter(2, normal_cutoff, btype='low', analog=False)\n",
        "\n",
        "    # Apply filter\n",
        "    envelope = scipy.signal.filtfilt(b, a, x_abs)\n",
        "\n",
        "    #\n",
        "    return envelope\n",
        "\n",
        "  def detectEnvelope(self,x:np.ndarray,N:int,method = 'analytic', window=\"hamming\",prefilter_req=False):\n",
        "    if prefilter_req:\n",
        "      x=self.prefilter(x,fs,1)\n",
        "    x=np.abs(x)\n",
        "    #Assert that x is a 1D numpy array\n",
        "    kernel_mapper={\"rect\":np.ones(N)/N,\"hamming\":np.hamming(N),\"hanning\":np.hanning(N),\"blackman\":np.blackman(N),\n",
        "                  \"gaussian\":scipy.signal.windows.gaussian(N,1),\"tukey\":scipy.signal.windows.tukey(N,1)}\n",
        "    if method == 'analytic':\n",
        "\n",
        "      #Calculate the mean of x and remove it\n",
        "      x_mean = np.mean(x)\n",
        "      x_zero_mean = x-x_mean\n",
        "\n",
        "      #Take the absolute value of the Hilbert transform\n",
        "      #to calculate the analytical envelope of the zero mean\n",
        "      #version of x\n",
        "      zero_mean_envelope = np.abs(hilbert(x_zero_mean,N = N))\n",
        "\n",
        "      #Calculate and return upper and lower envelopes\n",
        "      return x_mean+zero_mean_envelope,x_mean-zero_mean_envelope\n",
        "\n",
        "    elif method == 'rms':\n",
        "\n",
        "      #Assert that N is specified and is an integer\n",
        "      #For the rms method N serves as window size\n",
        "      #for the moving average\n",
        "      assert N and isinstance(N,int), 'N must be an integer'\n",
        "\n",
        "      #Calculate the mean of x and remove it\n",
        "      x_mean = np.mean(x)\n",
        "      x_zero_mean = x-x_mean\n",
        "      #Moving average is calculated using np.convolve\n",
        "\n",
        "\n",
        "      #Calculate the RMS envelope of the zero mean version of x.\n",
        "      kernel=kernel_mapper[window]\n",
        "      #Moving average is calculated using np.convolve\n",
        "      zero_mean_envelope = np.sqrt(np.convolve(x_zero_mean**2,kernel,mode = 'same'))\n",
        "\n",
        "      #Calculate and return upper and lower envelopes\n",
        "      return x_mean+zero_mean_envelope,x_mean-zero_mean_envelope\n",
        "\n",
        "    elif method == 'peak':\n",
        "\n",
        "      #Assert that N is specified and is an integer\n",
        "      #For the peak method N serves as the minimum number of\n",
        "      #samples that seperate local maxima\n",
        "      assert N and isinstance(N,int), 'N must be an integer'\n",
        "\n",
        "      #Calculate local maxima and minima which will serve\n",
        "      #as peaks for upper and lower envelopes respectively\n",
        "      peaks_upper,_ = find_peaks(x,distance = N)\n",
        "      peaks_lower,_ = find_peaks(-x,distance = N)\n",
        "\n",
        "      #Calculate upper and lower envelopes by interpolating\n",
        "      #peaks using a Univariate spline\n",
        "      upper_spline = UnivariateSpline(peaks_upper,x[peaks_upper])\n",
        "      lower_spline = UnivariateSpline(peaks_lower,x[peaks_lower])\n",
        "      upper_envelope = upper_spline(np.arange(x.shape[0]))\n",
        "      lower_envelope = lower_spline(np.arange(x.shape[0]))\n",
        "\n",
        "      #Return the envelopes\n",
        "      return upper_envelope,lower_envelope\n",
        "\n",
        "    else:\n",
        "\n",
        "      raise ValueError('%s is not a valid method' %(method))\n",
        "\n",
        "  def compareSignals(self,original:np.ndarray,signal:np.ndarray,fs:float,arrival_time:float,block:Optional[bool]=True)->None:\n",
        "\n",
        "    plt.close()\n",
        "    plt.subplot(2,1,1)\n",
        "    plt.plot(original)\n",
        "    plt.subplot(2,1,2)\n",
        "    plt.plot(signal)\n",
        "    plt.axvline(x=(arrival_time*fs),color=\"red\")\n",
        "    plt.show()\n",
        "  '''\n",
        "  Test block\n",
        "  '''\n",
        "#36\n",
        "#51\n",
        "#16\n",
        "#21\n",
        "#24\n",
        "#39\n",
        "#46\n",
        "\n",
        "idx=10\n",
        "x_input,x_label,fs=train_data[idx],train_labels[idx],sampling_rate[idx]\n",
        "p=ProcessSignal()\n",
        "envelope=p.detectEnvelope(x_input,int(fs*512),'rms',\"hamming\",True)\n",
        "p.compareSignals(x_input,envelope[0],fs,x_label)\n"
      ],
      "metadata": {
        "colab": {
          "base_uri": "https://localhost:8080/",
          "height": 445
        },
        "id": "ZqlNpYb9ajru",
        "outputId": "7a68e598-cd43-4b2c-9af9-357f2c55702b"
      },
      "execution_count": 4,
      "outputs": [
        {
          "output_type": "display_data",
          "data": {
            "text/plain": [
              "<Figure size 640x480 with 2 Axes>"
            ],
            "image/png": "[encoded data removed]"
          },
          "metadata": {}
        }
      ]
    },
    {
      "cell_type": "code",
      "source": [
        "def convert_to_batches_of_data(data,batches):\n",
        "\n",
        "  nsamples,ntimestamps=data.shape\n",
        "  data=data[:,:int(ntimestamps/batches)*batches]\n",
        "\n",
        "  data=data.reshape(nsamples,int(ntimestamps/batches),batches)\n",
        "  data=data.reshape(nsamples*int(ntimestamps/batches),-1)\n",
        "\n",
        "  return data\n",
        "x_input=convert_to_batches_of_data(x_train,100)"
      ],
      "metadata": {
        "id": "xpSD59g_HZh4"
      },
      "execution_count": 5,
      "outputs": []
    },
    {
      "cell_type": "code",
      "source": [
        "# Model Training\n",
        "'''\n",
        "Define optimizers, hyperparams,\n",
        "Start/end Training, store model checkpoint\n",
        "\n",
        "'''"
      ],
      "metadata": {
        "id": "FvBwQN-ha6NZ"
      },
      "execution_count": null,
      "outputs": []
    },
    {
      "cell_type": "code",
      "source": [
        "#Evaluation\n",
        "'''\n",
        "Input: Model, test data\n",
        "Output: pd.Dataframe or similar table with evaluation results\n",
        "'''"
      ],
      "metadata": {
        "id": "LI8BnYDwbLpm"
      },
      "execution_count": null,
      "outputs": []
    },
    {
      "cell_type": "code",
      "source": [
        "#Demo app\n",
        "'''\n",
        "Input: Model, sample input signal\n",
        "'''"
      ],
      "metadata": {
        "id": "dq4G5UYGblYl"
      },
      "execution_count": null,
      "outputs": []
    }
  ]
}