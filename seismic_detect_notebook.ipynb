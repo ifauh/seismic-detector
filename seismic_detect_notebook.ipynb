{
 "cells": [
  {
   "cell_type": "code",
   "execution_count": null,
   "metadata": {
    "colab": {
     "base_uri": "https://localhost:8080/"
    },
    "id": "3nH4oYs_lMAK",
    "outputId": "51bd1b16-6a5c-4241-dbbb-a63b2528fa4f"
   },
   "outputs": [],
   "source": [
    "#!wget http://dtn-max.ifa.hawaii.edu/SpaceApps/2024/spaceappschallenge_seismicdetection_data.zip\n",
    "#!wget http://dtn-itc.ifa.hawaii.edu/spaceapps/2024/spaceappschallenge_seismicdetection_data.zip"
   ]
  },
  {
   "cell_type": "code",
   "execution_count": null,
   "metadata": {
    "colab": {
     "base_uri": "https://localhost:8080/"
    },
    "id": "oB3RlppulbKj",
    "outputId": "dac8ae6c-0035-4d6e-eebf-bf1aaaf44734"
   },
   "outputs": [],
   "source": [
    "#!unzip spaceappschallenge_seismicdetection_data.zip"
   ]
  },
  {
   "cell_type": "code",
   "execution_count": null,
   "metadata": {
    "colab": {
     "base_uri": "https://localhost:8080/"
    },
    "id": "-Yd6Mmg8lxu0",
    "outputId": "6ae015e5-d11d-42de-a1d3-12bf066e449b"
   },
   "outputs": [],
   "source": [
    "#%cd /content\n",
    "#!ls"
   ]
  },
  {
   "cell_type": "code",
   "execution_count": null,
   "metadata": {
    "colab": {
     "base_uri": "https://localhost:8080/"
    },
    "id": "zIee_wEmZkMV",
    "outputId": "edf9d749-cbd8-4a80-8e63-b30f81270576"
   },
   "outputs": [],
   "source": [
    "#Install prerequisite packages\n",
    "#%pip install obspy"
   ]
  },
  {
   "cell_type": "code",
   "execution_count": 1,
   "metadata": {
    "id": "h-qZZR1UWXpR"
   },
   "outputs": [],
   "source": [
    "#Import modules\n",
    "import numpy as np\n",
    "import pandas as pd\n",
    "import scipy\n",
    "from scipy.signal import hilbert,find_peaks\n",
    "from scipy.interpolate import UnivariateSpline\n",
    "import obspy\n",
    "from obspy import read\n",
    "from datetime import datetime, timedelta\n",
    "import matplotlib.pyplot as plt\n",
    "import os\n",
    "import typing\n",
    "from typing import *\n",
    "%matplotlib inline"
   ]
  },
  {
   "cell_type": "code",
   "execution_count": 2,
   "metadata": {
    "id": "DAAm_IPjeHnP"
   },
   "outputs": [],
   "source": [
    "#GLOBAL VARIABLES\n",
    "DATASET_ROOT_PATH=\"data\""
   ]
  },
  {
   "cell_type": "code",
   "execution_count": 3,
   "metadata": {
    "colab": {
     "base_uri": "https://localhost:8080/"
    },
    "id": "s8HsbRa8YU3K",
    "outputId": "dc68b120-7caf-449d-d170-7965ef743910"
   },
   "outputs": [
    {
     "name": "stdout",
     "output_type": "stream",
     "text": [
      "data/lunar/train/xa.s12.00.mhz.1971-04-17HR00_evid00030 25440.0\n",
      "data/lunar/train/xa.s12.00.mhz.1973-08-21HR00_evid00127 44220.0\n",
      "data/lunar/train/xa.s12.00.mhz.1973-07-04HR00_evid00114 9960.0\n",
      "data/lunar/train/xa.s12.00.mhz.1975-05-04HR00_evid00192 36300.0\n",
      "data/lunar/train/xa.s12.00.mhz.1973-01-18HR00_evid00088 82860.0\n",
      "data/lunar/train/xa.s12.00.mhz.1974-06-25HR00_evid00149 1380.0\n",
      "data/lunar/train/xa.s12.00.mhz.1971-05-13HR00_evid00033 10800.0\n",
      "data/lunar/train/xa.s12.00.mhz.1974-04-26HR00_evid00144 33480.0\n",
      "data/lunar/train/xa.s12.00.mhz.1971-01-28HR00_evid00023 53940.0\n",
      "data/lunar/train/xa.s12.00.mhz.1973-03-01HR00_evid00093 26100.0\n",
      "data/lunar/train/xa.s12.00.mhz.1970-07-20HR00_evid00011 42240.0\n",
      "data/lunar/train/xa.s12.00.mhz.1974-07-17HR00_evid00153 43500.0\n",
      "data/lunar/train/xa.s12.00.mhz.1972-07-31HR00_evid00071 65280.0\n",
      "data/lunar/train/xa.s12.00.mhz.1973-07-28HR00_evid00120 3120.0\n",
      "data/lunar/train/xa.s12.00.mhz.1972-07-17HR00_evid00067 28200.0\n",
      "data/lunar/train/xa.s12.00.mhz.1974-04-08HR00_evid00141 31200.0\n",
      "data/lunar/train/xa.s12.00.mhz.1973-06-27HR00_evid00112 66960.0\n",
      "data/lunar/train/xa.s12.00.mhz.1971-05-23HR00_evid00034 80400.0\n",
      "data/lunar/train/xa.s12.00.mhz.1970-07-20HR00_evid00010 18360.0\n",
      "data/lunar/train/xa.s12.00.mhz.1970-09-26HR00_evid00013 71820.0\n",
      "data/lunar/train/xa.s12.00.mhz.1971-06-12HR00_evid00035 39060.0\n",
      "data/lunar/train/xa.s12.00.mhz.1973-06-05HR00_evid00107 9480.0\n",
      "data/lunar/train/xa.s12.00.mhz.1970-03-26HR00_evid00004 73020.0\n",
      "data/lunar/train/xa.s12.00.mhz.1971-10-18HR00_evid00043 11940.0\n",
      "data/lunar/train/xa.s12.00.mhz.1971-01-29HR00_evid00024 66060.0\n",
      "data/lunar/train/xa.s12.00.mhz.1972-07-17HR00_evid00068 78960.0\n",
      "data/lunar/train/xa.s12.00.mhz.1974-01-10HR00_evid00136 84060.0\n",
      "data/lunar/train/xa.s12.00.mhz.1972-06-16HR00_evid00060 58260.0\n",
      "data/lunar/train/xa.s12.00.mhz.1973-06-05HR00_evid00108 40200.0\n",
      "data/lunar/train/xa.s12.00.mhz.1975-06-24HR00_evid00196 57780.0\n",
      "data/lunar/train/xa.s12.00.mhz.1973-03-13HR00_evid00094 28860.0\n",
      "data/lunar/train/xa.s12.00.mhz.1971-09-25HR00_evid00042 32220.0\n",
      "data/lunar/train/xa.s12.00.mhz.1971-11-14HR00_evid00046 15420.0\n",
      "data/lunar/train/xa.s12.00.mhz.1972-05-11HR00_evid00055 48900.0\n",
      "data/lunar/train/xa.s12.00.mhz.1974-02-07HR00_evid00137 22860.0\n",
      "data/lunar/train/xa.s12.00.mhz.1970-12-31HR00_evid00021 56460.0\n",
      "data/lunar/train/xa.s12.00.mhz.1970-06-15HR00_evid00008 68400.0\n",
      "data/lunar/train/xa.s12.00.mhz.1972-07-28HR00_evid00070 8580.0\n",
      "data/lunar/train/xa.s12.00.mhz.1972-03-12HR00_evid00052 64800.0\n",
      "data/lunar/train/xa.s12.00.mhz.1973-06-18HR00_evid00109 6120.0\n",
      "data/lunar/train/xa.s12.00.mhz.1971-10-31HR00_evid00045 19800.0\n",
      "data/lunar/train/xa.s12.00.mhz.1974-03-25HR00_evid00140 61080.0\n",
      "data/lunar/train/xa.s12.00.mhz.1972-12-02HR00_evid00083 28680.0\n",
      "data/lunar/train/xa.s12.00.mhz.1973-07-29HR00_evid00121 84660.0\n",
      "data/lunar/train/xa.s12.00.mhz.1970-04-25HR00_evid00006 4440.0\n",
      "data/lunar/train/xa.s12.00.mhz.1974-07-06HR00_evid00150 10620.0\n",
      "data/lunar/train/xa.s12.00.mhz.1974-07-11HR00_evid00152 3120.0\n",
      "data/lunar/train/xa.s12.00.mhz.1970-03-25HR00_evid00003 12720.0\n",
      "data/lunar/train/xa.s12.00.mhz.1974-04-27HR00_evid00145 51480.0\n",
      "data/lunar/train/xa.s12.00.mhz.1971-05-12HR00_evid00032 35100.0\n",
      "data/lunar/train/xa.s12.00.mhz.1970-11-12HR00_evid00015 46200.0\n",
      "data/lunar/train/xa.s12.00.mhz.1971-10-20HR00_evid00044 65280.0\n",
      "data/lunar/train/xa.s12.00.mhz.1973-07-20HR00_evid00117 68520.0\n",
      "data/lunar/train/xa.s12.00.mhz.1975-04-12HR00_evid00191 65700.0\n",
      "data/lunar/train/xa.s12.00.mhz.1971-01-15HR00_evid00022 45600.0\n",
      "data/lunar/train/xa.s12.00.mhz.1974-07-06HR00_evid00151 51240.0\n",
      "data/lunar/train/xa.s12.00.mhz.1974-02-12HR00_evid00138 81000.0\n",
      "data/lunar/train/xa.s12.00.mhz.1974-04-19HR00_evid00142 66840.0\n",
      "data/lunar/train/xa.s12.00.mhz.1972-01-04HR00_evid00049 23700.0\n",
      "data/lunar/train/xa.s12.00.mhz.1970-06-26HR00_evid00009 72060.0\n",
      "data/lunar/train/xa.s12.00.mhz.1970-12-11HR00_evid00017 26520.0\n",
      "data/lunar/train/xa.s12.00.mhz.1971-03-25HR00_evid00028 55080.0\n",
      "data/lunar/train/xa.s12.00.mhz.1972-12-03HR00_evid00084 9480.0\n",
      "data/lunar/train/xa.s12.00.mhz.1971-02-09HR00_evid00026 13320.0\n",
      "data/lunar/train/xa.s12.00.mhz.1973-07-03HR00_evid00113 65700.0\n",
      "data/lunar/train/xa.s12.00.mhz.1974-10-14HR00_evid00156 63780.0\n",
      "data/lunar/train/xa.s12.00.mhz.1970-10-24HR00_evid00014 41460.0\n",
      "data/lunar/train/xa.s12.00.mhz.1970-12-27HR00_evid00019 74040.0\n",
      "data/lunar/train/xa.s12.00.mhz.1973-05-14HR00_evid00104 2640.0\n",
      "data/lunar/train/xa.s12.00.mhz.1973-03-24HR00_evid00097 69780.0\n",
      "data/lunar/train/xa.s12.00.mhz.1973-01-31HR00_evid00091 2640.0\n",
      "data/lunar/train/xa.s12.00.mhz.1971-05-12HR00_evid00031 29100.0\n",
      "data/lunar/train/xa.s12.00.mhz.1970-01-19HR00_evid00002 73500.0\n",
      "data/lunar/train/xa.s12.00.mhz.1970-04-26HR00_evid00007 52140.0\n",
      "data/lunar/train/xa.s12.00.mhz.1975-06-26HR00_evid00198 12240.0\n"
     ]
    }
   ],
   "source": [
    "#Dataset\n",
    "'''\n",
    "class to assimilate data ,\n",
    "Input: paths to dataset\n",
    "Output: Multi-dim matrix,  np.ndarray or torch.tensor\n",
    "'''\n",
    "class SeismicDataset:\n",
    "\n",
    "  def __init__(self,dataset_root:str)->None:\n",
    "    self.dataset_root=dataset_root\n",
    "    self.list_of_planets=[\"lunar\",\"mars\"]\n",
    "    self.modes=[\"train\",\"test\"]\n",
    "\n",
    "  def loadDataset(self)->np.ndarray:\n",
    "      '''\n",
    "      dataset of shape (Number of samples, timestamps)\n",
    "      '''\n",
    "      signal_stack=[]\n",
    "      labels=[]\n",
    "      sampling_rate=[]\n",
    "\n",
    "      for i,row in self.dataset.iterrows():\n",
    "        filename=row[\"filename\"]\n",
    "        time_rel=row[\"time_rel(sec)\"]\n",
    "        signal = obspy.read(filename + \".mseed\")\n",
    "        signal_stack.append(signal[0].data)\n",
    "        labels.append(time_rel)\n",
    "        sampling_rate.append(signal[0].stats.sampling_rate)\n",
    "        print(filename,time_rel)\n",
    "      return signal_stack, labels, sampling_rate\n",
    "\n",
    "  def generatePathToLogs(self)->None:\n",
    "    '''\n",
    "    returns a DataFrame with columns: filename,logname,time_rel(label)\n",
    "    '''\n",
    "    # Extract Catalog for time_rel aka label data\n",
    "    database_roots={\"catalog\":\n",
    "                    {\"lunar\":\n",
    "                    {\"train\":\"lunar/catalog\"},\n",
    "                    \"mars\":\n",
    "                    {\"train\":\"mars/catalog\"}\n",
    "                    }\n",
    "                  }\n",
    "    list_of_csvs_path=[]\n",
    "    for planet_data in database_roots.values():\n",
    "      for planet,data_cap in planet_data.items():\n",
    "        for data_category,path in data_cap.items():\n",
    "          path1=os.path.join(self.dataset_root,path)\n",
    "          list_dirs=os.listdir(path1)\n",
    "          for csvpath in list_dirs:\n",
    "              path2=os.path.join(path1,csvpath)\n",
    "              assert os.path.isfile(path2), \"Path not found\"\n",
    "              list_of_csvs_path.append(path2)\n",
    "\n",
    "    catalog=[]\n",
    "\n",
    "    for csv_path in list_of_csvs_path:\n",
    "      df=pd.read_csv(csv_path)\n",
    "      df[\"logname\"]=df[\"filename\"].apply(lambda name: name.strip(\".csv\").strip(\".mseed\"))\n",
    "\n",
    "      df.name=\"_\".join(csv_path.split(\"/\")[1:3])\n",
    "      catalog.append(df)\n",
    "    lunar_catalog=catalog[0]\n",
    "    mars_catalog=pd.merge(catalog[1],catalog[2])\n",
    "    #Extract signal data\n",
    "\n",
    "    database_roots={\"data\":\n",
    "                  {\"lunar\":\n",
    "                  {\"train\":\"lunar/train\",\n",
    "                  \"test\":\"lunar/test\"},\n",
    "                  \"mars\":\n",
    "                  {\"train\":\"mars/train\",\n",
    "                  \"test\":\"mars/test\"}\n",
    "                  }\n",
    "                }\n",
    "    list_of_csvs=[]\n",
    "\n",
    "    for planet_data in database_roots.values():\n",
    "        for planet,data_cap in planet_data.items():\n",
    "            for data_category,path in data_cap.items():\n",
    "                path1=os.path.join(self.dataset_root,path)\n",
    "                scandir=os.scandir(path1)\n",
    "                respaths=[]\n",
    "                lognames=[]\n",
    "                for sample in scandir:\n",
    "\n",
    "                  res_path=os.path.join(path1,sample.name.strip(\".csv\").strip(\".mseed\"))\n",
    "                  log_name=sample.name.strip(\".csv\").strip(\".mseed\")\n",
    "                  respaths.append(res_path)\n",
    "                  lognames.append(log_name)\n",
    "\n",
    "                df=pd.DataFrame({\"filename\":respaths,\"logname\":lognames})\n",
    "                df.attrs[\"metadata\"]={\"name\":planet,\"type\":data_category}\n",
    "                list_of_csvs.append(df)\n",
    "                del df\n",
    "\n",
    "    lunar_train_signals_table=list_of_csvs[0]\n",
    "    lunar_test_signals_table=list_of_csvs[1]\n",
    "    mars_train_signals_table=list_of_csvs[2]\n",
    "    mars_test_signals_table=list_of_csvs[3]\n",
    "    # Perform an inner join with logname to get a dataframe\n",
    "    lunar_training_data=pd.merge(lunar_train_signals_table,lunar_catalog, on='logname')\n",
    "    lunar_training_data=lunar_training_data.drop(columns=[\"filename_y\"])\n",
    "    lunar_training_data=lunar_training_data.rename(columns={\"filename_x\":\"filename\"})\n",
    "\n",
    "    self.dataset=lunar_training_data\n",
    "\n",
    "\n",
    "'''\n",
    "Test block\n",
    "'''\n",
    "dataTester=SeismicDataset(DATASET_ROOT_PATH)\n",
    "dataTester.generatePathToLogs()\n",
    "train_data,train_labels,sampling_rate=dataTester.loadDataset()"
   ]
  },
  {
   "cell_type": "code",
   "execution_count": 4,
   "metadata": {
    "colab": {
     "base_uri": "https://localhost:8080/",
     "height": 445
    },
    "id": "ZqlNpYb9ajru",
    "outputId": "eb2f14b4-5291-4d0b-b5c8-e581ccdfcad2"
   },
   "outputs": [
    {
     "data": {
      "image/png": "[encoded data removed]",
      "text/plain": [
       "<Figure size 640x480 with 2 Axes>"
      ]
     },
     "metadata": {},
     "output_type": "display_data"
    },
    {
     "name": "stdout",
     "output_type": "stream",
     "text": [
      "filename                          data/lunar/train/xa.s12.00.mhz.1973-07-20HR00_...\n",
      "logname                                      xa.s12.00.mhz.1973-07-20HR00_evid00117\n",
      "time_abs(%Y-%m-%dT%H:%M:%S.%f)                           1973-07-20T19:02:00.000000\n",
      "time_rel(sec)                                                               68520.0\n",
      "evid                                                                      evid00117\n",
      "mq_type                                                                     deep_mq\n",
      "Name: 52, dtype: object\n"
     ]
    }
   ],
   "source": [
    "#PreProcessing\n",
    "'''\n",
    "Input:Signal\n",
    "Output: Transformed / Augmented data\n",
    "'''\n",
    "class ProcessSignal:\n",
    "  def __init__(self)->None:\n",
    "    pass\n",
    "  def detectEnvelope(self,x:np.ndarray,N:int,method = 'analytic', window=\"hamming\"):\n",
    "\n",
    "    x=np.abs(x)\n",
    "    #Assert that x is a 1D numpy array\n",
    "    kernel_mapper={\"rect\":np.ones(N)/N,\"hamming\":np.hamming(N),\"hanning\":np.hanning(N),\"blackman\":np.blackman(N),\n",
    "                  \"gaussian\":scipy.signal.windows.gaussian(N,1),\"tukey\":scipy.signal.windows.tukey(N,1)}\n",
    "    if method == 'analytic':\n",
    "\n",
    "      #Calculate the mean of x and remove it\n",
    "      x_mean = np.mean(x)\n",
    "      x_zero_mean = x-x_mean\n",
    "\n",
    "      #Take the absolute value of the Hilbert transform\n",
    "      #to calculate the analytical envelope of the zero mean\n",
    "      #version of x\n",
    "      zero_mean_envelope = np.abs(hilbert(x_zero_mean,N = N))\n",
    "\n",
    "      #Calculate and return upper and lower envelopes\n",
    "      return x_mean+zero_mean_envelope,x_mean-zero_mean_envelope\n",
    "\n",
    "    elif method == 'rms':\n",
    "\n",
    "      #Assert that N is specified and is an integer\n",
    "      #For the rms method N serves as window size\n",
    "      #for the moving average\n",
    "      assert N and isinstance(N,int), 'N must be an integer'\n",
    "\n",
    "      #Calculate the mean of x and remove it\n",
    "      x_mean = np.mean(x)\n",
    "      x_zero_mean = x-x_mean\n",
    "      #Moving average is calculated using np.convolve\n",
    "\n",
    "\n",
    "      #Calculate the RMS envelope of the zero mean version of x.\n",
    "      kernel=kernel_mapper[window]\n",
    "      #Moving average is calculated using np.convolve\n",
    "      zero_mean_envelope = np.sqrt(np.convolve(x_zero_mean**2,kernel,mode = 'same'))\n",
    "\n",
    "      #Calculate and return upper and lower envelopes\n",
    "      return x_mean+zero_mean_envelope,x_mean-zero_mean_envelope\n",
    "\n",
    "    elif method == 'peak':\n",
    "\n",
    "      #Assert that N is specified and is an integer\n",
    "      #For the peak method N serves as the minimum number of\n",
    "      #samples that seperate local maxima\n",
    "      assert N and isinstance(N,int), 'N must be an integer'\n",
    "\n",
    "      #Calculate local maxima and minima which will serve\n",
    "      #as peaks for upper and lower envelopes respectively\n",
    "      peaks_upper,_ = find_peaks(x,distance = N)\n",
    "      peaks_lower,_ = find_peaks(-x,distance = N)\n",
    "\n",
    "      #Calculate upper and lower envelopes by interpolating\n",
    "      #peaks using a Univariate spline\n",
    "      upper_spline = UnivariateSpline(peaks_upper,x[peaks_upper])\n",
    "      lower_spline = UnivariateSpline(peaks_lower,x[peaks_lower])\n",
    "      upper_envelope = upper_spline(np.arange(x.shape[0]))\n",
    "      lower_envelope = lower_spline(np.arange(x.shape[0]))\n",
    "\n",
    "      #Return the envelopes\n",
    "      return upper_envelope,lower_envelope\n",
    "\n",
    "    else:\n",
    "\n",
    "      raise ValueError('%s is not a valid method' %(method))\n",
    "\n",
    "  def compareSignals(self,original:np.ndarray,signal:np.ndarray,fs:float,arrival_time:float,block:Optional[bool]=True)->None:\n",
    "\n",
    "    plt.close()\n",
    "    plt.subplot(2,1,1)\n",
    "    plt.plot(original)\n",
    "    plt.subplot(2,1,2)\n",
    "    plt.plot(signal)\n",
    "    plt.axvline(x=(arrival_time*fs),color=\"red\")\n",
    "    plt.show()\n",
    "  '''\n",
    "  Test block\n",
    "  '''\n",
    "idx=52\n",
    "x_input,x_label,fs=train_data[idx],train_labels[idx],sampling_rate[idx]\n",
    "p=ProcessSignal()\n",
    "envelope=p.detectEnvelope(x_input,int(fs*512),'rms',\"hamming\")\n",
    "p.compareSignals(x_input,envelope[0],fs,x_label)\n",
    "print(dataTester.dataset.iloc[idx])"
   ]
  },
  {
   "cell_type": "code",
   "execution_count": 5,
   "metadata": {
    "id": "j4CSv1ysaQ_n"
   },
   "outputs": [
    {
     "name": "stderr",
     "output_type": "stream",
     "text": [
      "2024-10-06 04:45:41.559378: E external/local_xla/xla/stream_executor/cuda/cuda_dnn.cc:9373] Unable to register cuDNN factory: Attempting to register factory for plugin cuDNN when one has already been registered\n",
      "2024-10-06 04:45:41.559430: E external/local_xla/xla/stream_executor/cuda/cuda_fft.cc:607] Unable to register cuFFT factory: Attempting to register factory for plugin cuFFT when one has already been registered\n",
      "2024-10-06 04:45:41.560765: E external/local_xla/xla/stream_executor/cuda/cuda_blas.cc:1534] Unable to register cuBLAS factory: Attempting to register factory for plugin cuBLAS when one has already been registered\n",
      "2024-10-06 04:45:41.567448: I tensorflow/core/platform/cpu_feature_guard.cc:183] This TensorFlow binary is optimized to use available CPU instructions in performance-critical operations.\n",
      "To enable the following instructions: SSE3 SSE4.1 SSE4.2 AVX, in other operations, rebuild TensorFlow with the appropriate compiler flags.\n"
     ]
    }
   ],
   "source": [
    "# SeismicModel and dependencies\n",
    "\n",
    "import tensorflow as tf\n",
    "tf.compat.v1.disable_eager_execution()\n",
    "from tensorflow.keras.models import Model, load_model\n",
    "from tensorflow.keras.layers import Lambda, Input, Dense\n",
    "from tensorflow.keras.losses import mse, binary_crossentropy, KLDivergence\n",
    "from tensorflow.keras import optimizers\n",
    "from tensorflow.keras import backend as K\n",
    "\n",
    "from SeismicModel import SeismicModel"
   ]
  },
  {
   "cell_type": "code",
   "execution_count": 6,
   "metadata": {},
   "outputs": [
    {
     "name": "stdout",
     "output_type": "stream",
     "text": [
      "(75, 342378)\n",
      "Model: \"encoder\"\n",
      "__________________________________________________________________________________________________\n",
      " Layer (type)                Output Shape                 Param #   Connected to                  \n",
      "==================================================================================================\n",
      " encoder_input (InputLayer)  [(None, 342378)]             0         []                            \n",
      "                                                                                                  \n",
      " dense (Dense)               (None, 64)                   2191225   ['encoder_input[0][0]']       \n",
      "                                                          6                                       \n",
      "                                                                                                  \n",
      " dense_1 (Dense)             (None, 32)                   2080      ['dense[0][0]']               \n",
      "                                                                                                  \n",
      " z_mean (Dense)              (None, 16)                   528       ['dense_1[0][0]']             \n",
      "                                                                                                  \n",
      " z_log_var (Dense)           (None, 16)                   528       ['dense_1[0][0]']             \n",
      "                                                                                                  \n",
      " z (Lambda)                  (None, 16)                   0         ['z_mean[0][0]',              \n",
      "                                                                     'z_log_var[0][0]']           \n",
      "                                                                                                  \n",
      "==================================================================================================\n",
      "Total params: 21915392 (83.60 MB)\n",
      "Trainable params: 21915392 (83.60 MB)\n",
      "Non-trainable params: 0 (0.00 Byte)\n",
      "__________________________________________________________________________________________________\n",
      "Model: \"decoder\"\n",
      "_________________________________________________________________\n",
      " Layer (type)                Output Shape              Param #   \n",
      "=================================================================\n",
      " z_sampling (InputLayer)     [(None, 16)]              0         \n",
      "                                                                 \n",
      " dense_2 (Dense)             (None, 32)                544       \n",
      "                                                                 \n",
      " dense_3 (Dense)             (None, 64)                2112      \n",
      "                                                                 \n",
      " dense_4 (Dense)             (None, 342378)            22254570  \n",
      "                                                                 \n",
      "=================================================================\n",
      "Total params: 22257226 (84.90 MB)\n",
      "Trainable params: 22257226 (84.90 MB)\n",
      "Non-trainable params: 0 (0.00 Byte)\n",
      "_________________________________________________________________\n"
     ]
    }
   ],
   "source": [
    "# Model Definition\n",
    "'''\n",
    "Define model architectures\n",
    "Input: tensor signal\n",
    "Output: binary signal\n",
    "'''\n",
    "min_len = 1e6\n",
    "N = len(train_data[:])\n",
    "for idx in range(N):\n",
    "    if train_data[idx].shape[0] < min_len:\n",
    "        min_len = train_data[idx].shape[0]\n",
    "\n",
    "x = np.zeros((N,min_len))\n",
    "for idx in range(len(train_data[:])):\n",
    "    x[idx] = train_data[idx][:min_len]\n",
    "print(x.shape)\n",
    "\n",
    "seismic_model = SeismicModel(name=\"vae-mlp\")\n",
    "seismic_model.SetTrain(x, x)\n",
    "seismic_model.BuildModel()"
   ]
  },
  {
   "cell_type": "code",
   "execution_count": 7,
   "metadata": {
    "id": "FvBwQN-ha6NZ"
   },
   "outputs": [
    {
     "name": "stdout",
     "output_type": "stream",
     "text": [
      "Model: \"vae-mlp\"\n",
      "_________________________________________________________________\n",
      " Layer (type)                Output Shape              Param #   \n",
      "=================================================================\n",
      " encoder_input (InputLayer)  [(None, 342378)]          0         \n",
      "                                                                 \n",
      " encoder (Functional)        (None, 16)                21915392  \n",
      "                                                                 \n",
      " decoder (Functional)        (None, 342378)            22257226  \n",
      "                                                                 \n",
      "=================================================================\n",
      "Total params: 44172618 (168.51 MB)\n",
      "Trainable params: 44172618 (168.51 MB)\n",
      "Non-trainable params: 0 (0.00 Byte)\n",
      "_________________________________________________________________\n"
     ]
    },
    {
     "name": "stderr",
     "output_type": "stream",
     "text": [
      "2024-10-06 04:45:46.801839: E external/local_xla/xla/stream_executor/cuda/cuda_driver.cc:274] failed call to cuInit: CUDA_ERROR_NO_DEVICE: no CUDA-capable device is detected\n",
      "2024-10-06 04:45:46.801869: I external/local_xla/xla/stream_executor/cuda/cuda_diagnostics.cc:129] retrieving CUDA diagnostic information for host: nvgpu\n",
      "2024-10-06 04:45:46.801877: I external/local_xla/xla/stream_executor/cuda/cuda_diagnostics.cc:136] hostname: nvgpu\n",
      "2024-10-06 04:45:46.801979: I external/local_xla/xla/stream_executor/cuda/cuda_diagnostics.cc:159] libcuda reported version is: 550.90.7\n",
      "2024-10-06 04:45:46.801998: I external/local_xla/xla/stream_executor/cuda/cuda_diagnostics.cc:163] kernel reported version is: 550.90.7\n",
      "2024-10-06 04:45:46.802005: I external/local_xla/xla/stream_executor/cuda/cuda_diagnostics.cc:241] kernel version seems to match DSO: 550.90.7\n"
     ]
    }
   ],
   "source": [
    "# Model Training\n",
    "'''\n",
    "Compile the model (Define optimizers, hyperparams, etc.)\n",
    "Start/end Training\n",
    "Store model checkpoints\n",
    "Plot training and validation loss\n",
    "'''\n",
    "\n",
    "seismic_model.Compile(lr=3e-5)\n"
   ]
  },
  {
   "cell_type": "code",
   "execution_count": 8,
   "metadata": {},
   "outputs": [
    {
     "name": "stderr",
     "output_type": "stream",
     "text": [
      "2024-10-06 04:45:56.511336: I tensorflow/compiler/mlir/mlir_graph_optimization_pass.cc:388] MLIR V1 optimization pass is not enabled\n",
      "2024-10-06 04:45:56.981253: W tensorflow/c/c_api.cc:305] Operation '{name:'dense_4/bias/Assign' id:192 op device:{requested: '', assigned: ''} def:{{{node dense_4/bias/Assign}} = AssignVariableOp[_has_manual_control_dependencies=true, dtype=DT_FLOAT, validate_shape=false](dense_4/bias, dense_4/bias/Initializer/zeros)}}' was changed by setting attribute after it was run by a session. This mutation will have no effect, and will trigger an error in the future. Either don't modify nodes after running them or create a new session.\n",
      "2024-10-06 04:46:17.279526: W tensorflow/core/common_runtime/type_inference.cc:339] Type inference failed. This indicates an invalid graph that escaped type checking. Error message: INVALID_ARGUMENT: type mismatch for node 'DatasetToGraphV2': expected a subtype of:\n",
      "type_id: TFT_PRODUCT\n",
      "args {\n",
      "  type_id: TFT_ENCODED\n",
      "  args {\n",
      "    type_id: TFT_DATASET\n",
      "    args {\n",
      "      type_id: TFT_PRODUCT\n",
      "      args {\n",
      "        type_id: TFT_TENSOR\n",
      "        args {\n",
      "          type_id: TFT_DOUBLE\n",
      "        }\n",
      "      }\n",
      "      args {\n",
      "        type_id: TFT_TENSOR\n",
      "        args {\n",
      "          type_id: TFT_DOUBLE\n",
      "        }\n",
      "      }\n",
      "    }\n",
      "  }\n",
      "  args {\n",
      "    type_id: TFT_STRING\n",
      "  }\n",
      "}\n",
      "\n",
      "  got:\n",
      "type_id: TFT_PRODUCT\n",
      "args {\n",
      "  type_id: TFT_ENCODED\n",
      "  args {\n",
      "    type_id: TFT_DATASET\n",
      "    args {\n",
      "      type_id: TFT_PRODUCT\n",
      "      args {\n",
      "        type_id: TFT_TENSOR\n",
      "        args {\n",
      "          type_id: TFT_DOUBLE\n",
      "        }\n",
      "      }\n",
      "      args {\n",
      "        type_id: TFT_TENSOR\n",
      "        args {\n",
      "          type_id: TFT_DOUBLE\n",
      "        }\n",
      "      }\n",
      "    }\n",
      "  }\n",
      "  args {\n",
      "    type_id: TFT_STRING\n",
      "  }\n",
      "}\n",
      "\n",
      "  \n",
      "\twhile updating its output type.\n"
     ]
    },
    {
     "name": "stdout",
     "output_type": "stream",
     "text": [
      "Train on 10 steps\n",
      "Epoch 1/10\n"
     ]
    },
    {
     "name": "stderr",
     "output_type": "stream",
     "text": [
      "2024-10-06 04:46:25.831394: W tensorflow/c/c_api.cc:305] Operation '{name:'loss/mul' id:294 op device:{requested: '', assigned: ''} def:{{{node loss/mul}} = Mul[T=DT_FLOAT, _has_manual_control_dependencies=true](loss/mul/x, loss/decoder_loss/value)}}' was changed by setting attribute after it was run by a session. This mutation will have no effect, and will trigger an error in the future. Either don't modify nodes after running them or create a new session.\n",
      "2024-10-06 04:46:26.675021: W tensorflow/c/c_api.cc:305] Operation '{name:'training/Adam/dense_3/bias/v/Assign' id:668 op device:{requested: '', assigned: ''} def:{{{node training/Adam/dense_3/bias/v/Assign}} = AssignVariableOp[_has_manual_control_dependencies=true, dtype=DT_FLOAT, validate_shape=false](training/Adam/dense_3/bias/v, training/Adam/dense_3/bias/v/Initializer/zeros)}}' was changed by setting attribute after it was run by a session. This mutation will have no effect, and will trigger an error in the future. Either don't modify nodes after running them or create a new session.\n"
     ]
    },
    {
     "name": "stdout",
     "output_type": "stream",
     "text": [
      "10/10 [==============================] - 4s 148ms/step - batch: 4.5000 - size: 1.0000 - loss: 555148.2109\n",
      "Epoch 2/10\n",
      "10/10 [==============================] - 2s 145ms/step - batch: 4.5000 - size: 1.0000 - loss: 371108.5656\n",
      "Epoch 3/10\n",
      "10/10 [==============================] - 2s 150ms/step - batch: 4.5000 - size: 1.0000 - loss: 228043.3016\n",
      "Epoch 4/10\n",
      "10/10 [==============================] - 2s 149ms/step - batch: 4.5000 - size: 1.0000 - loss: 134619.5973\n",
      "Epoch 5/10\n",
      "10/10 [==============================] - 1s 147ms/step - batch: 4.5000 - size: 1.0000 - loss: 79967.1764\n",
      "Epoch 6/10\n",
      "10/10 [==============================] - 2s 149ms/step - batch: 4.5000 - size: 1.0000 - loss: 46508.2670\n",
      "Epoch 7/10\n",
      "10/10 [==============================] - 2s 149ms/step - batch: 4.5000 - size: 1.0000 - loss: 30950.5855\n",
      "Epoch 8/10\n",
      "10/10 [==============================] - 2s 150ms/step - batch: 4.5000 - size: 1.0000 - loss: 20804.0410\n",
      "Epoch 9/10\n",
      "10/10 [==============================] - 2s 148ms/step - batch: 4.5000 - size: 1.0000 - loss: 14242.3573\n",
      "Epoch 10/10\n",
      "10/10 [==============================] - 2s 150ms/step - batch: 4.5000 - size: 1.0000 - loss: 9669.3485\n"
     ]
    }
   ],
   "source": [
    "history = seismic_model.Train()"
   ]
  },
  {
   "cell_type": "code",
   "execution_count": 12,
   "metadata": {},
   "outputs": [
    {
     "data": {
      "image/png": "[encoded data removed]",
      "text/plain": [
       "<Figure size 640x480 with 1 Axes>"
      ]
     },
     "metadata": {},
     "output_type": "display_data"
    }
   ],
   "source": [
    "plt.plot(history.history['loss'])\n",
    "#plt.plot(history.history['loss'])\n",
    "plt.title('Training Performance')\n",
    "plt.ylabel('loss')\n",
    "plt.xlabel('epoch')\n",
    "#plt.legend(['train', 'val'], loc='upper left')\n",
    "plt.legend(['train'], loc='upper left')\n",
    "plt.show()"
   ]
  },
  {
   "cell_type": "code",
   "execution_count": null,
   "metadata": {
    "id": "LI8BnYDwbLpm"
   },
   "outputs": [],
   "source": [
    "#Evaluation\n",
    "'''\n",
    "Input: Model, test data\n",
    "Output: pd.Dataframe or similar table with evaluation results\n",
    "'''"
   ]
  },
  {
   "cell_type": "code",
   "execution_count": null,
   "metadata": {
    "id": "dq4G5UYGblYl"
   },
   "outputs": [],
   "source": [
    "#Demo app\n",
    "'''\n",
    "Input: Model, sample input signal\n",
    "'''"
   ]
  }
 ],
 "metadata": {
  "colab": {
   "provenance": []
  },
  "kernelspec": {
   "display_name": "Python 3 (ipykernel)",
   "language": "python",
   "name": "python3"
  },
  "language_info": {
   "codemirror_mode": {
    "name": "ipython",
    "version": 3
   },
   "file_extension": ".py",
   "mimetype": "text/x-python",
   "name": "python",
   "nbconvert_exporter": "python",
   "pygments_lexer": "ipython3",
   "version": "3.10.12"
  }
 },
 "nbformat": 4,
 "nbformat_minor": 1
}
